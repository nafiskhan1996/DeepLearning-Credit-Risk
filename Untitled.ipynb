{
 "cells": [
  {
   "cell_type": "markdown",
   "id": "25aa29c4",
   "metadata": {},
   "source": [
    "Import Necessary Libraries"
   ]
  },
  {
   "cell_type": "code",
   "execution_count": 1,
   "id": "6da8f934",
   "metadata": {},
   "outputs": [
    {
     "name": "stdout",
     "output_type": "stream",
     "text": [
      "Intel MKL WARNING: Support of Intel(R) Streaming SIMD Extensions 4.2 (Intel(R) SSE4.2) enabled only processors has been deprecated. Intel oneAPI Math Kernel Library 2025.0 will require Intel(R) Advanced Vector Extensions (Intel(R) AVX) instructions.\n",
      "Intel MKL WARNING: Support of Intel(R) Streaming SIMD Extensions 4.2 (Intel(R) SSE4.2) enabled only processors has been deprecated. Intel oneAPI Math Kernel Library 2025.0 will require Intel(R) Advanced Vector Extensions (Intel(R) AVX) instructions.\n"
     ]
    },
    {
     "name": "stderr",
     "output_type": "stream",
     "text": [
      "Using `tqdm.autonotebook.tqdm` in notebook mode. Use `tqdm.tqdm` instead to force console mode (e.g. in jupyter console)\n",
      "2023-10-04 03:29:01.007787: I tensorflow/core/platform/cpu_feature_guard.cc:193] This TensorFlow binary is optimized with oneAPI Deep Neural Network Library (oneDNN) to use the following CPU instructions in performance-critical operations:  SSE4.1 SSE4.2\n",
      "To enable them in other operations, rebuild TensorFlow with the appropriate compiler flags.\n"
     ]
    }
   ],
   "source": [
    "import pandas as pd\n",
    "import numpy as np\n",
    "from sklearn.model_selection import train_test_split, RandomizedSearchCV\n",
    "from sklearn.preprocessing import StandardScaler, PolynomialFeatures\n",
    "from sklearn.ensemble import RandomForestClassifier\n",
    "from sklearn.metrics import accuracy_score, confusion_matrix, classification_report\n",
    "import shap\n",
    "from tensorflow.keras.models import Sequential\n",
    "from tensorflow.keras.layers import Dense, Dropout, BatchNormalization\n",
    "\n"
   ]
  },
  {
   "cell_type": "markdown",
   "id": "0370f206",
   "metadata": {},
   "source": [
    "Load dataset"
   ]
  },
  {
   "cell_type": "code",
   "execution_count": 2,
   "id": "0e046e68",
   "metadata": {},
   "outputs": [],
   "source": [
    "\n",
    "df = pd.read_csv('credit_risk_dataset.csv')"
   ]
  },
  {
   "cell_type": "markdown",
   "id": "e27c2306",
   "metadata": {},
   "source": [
    "Explore Dataset"
   ]
  },
  {
   "cell_type": "code",
   "execution_count": null,
   "id": "9b1f131e",
   "metadata": {},
   "outputs": [],
   "source": [
    "print(df.head())"
   ]
  },
  {
   "cell_type": "code",
   "execution_count": null,
   "id": "68b8cd3e",
   "metadata": {},
   "outputs": [],
   "source": [
    "Data Preprocessing"
   ]
  },
  {
   "cell_type": "code",
   "execution_count": 3,
   "id": "c6aa3597",
   "metadata": {},
   "outputs": [],
   "source": [
    "\n",
    "df = df.dropna()\n",
    "df = pd.get_dummies(df, columns=['person_home_ownership', 'loan_intent', 'loan_grade'], drop_first=True)\n",
    "df['cb_person_default_on_file'] = df['cb_person_default_on_file'].map({'Y': 1, 'N': 0})"
   ]
  },
  {
   "cell_type": "markdown",
   "id": "11f44f3f",
   "metadata": {},
   "source": [
    "Feature Engineering"
   ]
  },
  {
   "cell_type": "code",
   "execution_count": 4,
   "id": "5842b903",
   "metadata": {},
   "outputs": [],
   "source": [
    "\n",
    "X = df.drop('loan_status', axis=1)\n",
    "y = df['loan_status']\n",
    "X_train, X_test, y_train, y_test = train_test_split(X, y, test_size=0.2, random_state=42)\n",
    "\n",
    "scaler = StandardScaler()\n",
    "X_train = scaler.fit_transform(X_train)\n",
    "X_test = scaler.transform(X_test)\n",
    "\n",
    "poly = PolynomialFeatures(degree=2, include_bias=False)\n",
    "X_train_poly = poly.fit_transform(X_train)\n",
    "X_test_poly = poly.transform(X_test)"
   ]
  },
  {
   "cell_type": "markdown",
   "id": "5f97f0f3",
   "metadata": {},
   "source": [
    "Initial Model Training-Deep Learning Model"
   ]
  },
  {
   "cell_type": "code",
   "execution_count": 5,
   "id": "2e6c9ac2",
   "metadata": {},
   "outputs": [
    {
     "name": "stdout",
     "output_type": "stream",
     "text": [
      "Epoch 1/50\n",
      "716/716 [==============================] - 2s 2ms/step - loss: 0.4698 - accuracy: 0.8071 - val_loss: 0.3107 - val_accuracy: 0.8837\n",
      "Epoch 2/50\n",
      "716/716 [==============================] - 1s 2ms/step - loss: 0.3544 - accuracy: 0.8611 - val_loss: 0.3021 - val_accuracy: 0.8884\n",
      "Epoch 3/50\n",
      "716/716 [==============================] - 1s 2ms/step - loss: 0.3351 - accuracy: 0.8679 - val_loss: 0.2904 - val_accuracy: 0.8944\n",
      "Epoch 4/50\n",
      "716/716 [==============================] - 1s 2ms/step - loss: 0.3224 - accuracy: 0.8777 - val_loss: 0.2855 - val_accuracy: 0.8980\n",
      "Epoch 5/50\n",
      "716/716 [==============================] - 1s 2ms/step - loss: 0.3099 - accuracy: 0.8841 - val_loss: 0.2804 - val_accuracy: 0.9005\n",
      "Epoch 6/50\n",
      "716/716 [==============================] - 1s 2ms/step - loss: 0.3047 - accuracy: 0.8855 - val_loss: 0.2664 - val_accuracy: 0.9069\n",
      "Epoch 7/50\n",
      "716/716 [==============================] - 1s 2ms/step - loss: 0.2982 - accuracy: 0.8925 - val_loss: 0.2640 - val_accuracy: 0.9068\n",
      "Epoch 8/50\n",
      "716/716 [==============================] - 1s 2ms/step - loss: 0.2910 - accuracy: 0.8948 - val_loss: 0.2665 - val_accuracy: 0.9047\n",
      "Epoch 9/50\n",
      "716/716 [==============================] - 1s 2ms/step - loss: 0.2876 - accuracy: 0.8962 - val_loss: 0.2572 - val_accuracy: 0.9117\n",
      "Epoch 10/50\n",
      "716/716 [==============================] - 1s 2ms/step - loss: 0.2810 - accuracy: 0.8994 - val_loss: 0.2548 - val_accuracy: 0.9108\n",
      "Epoch 11/50\n",
      "716/716 [==============================] - 1s 2ms/step - loss: 0.2799 - accuracy: 0.9014 - val_loss: 0.2498 - val_accuracy: 0.9127\n",
      "Epoch 12/50\n",
      "716/716 [==============================] - 1s 2ms/step - loss: 0.2748 - accuracy: 0.9042 - val_loss: 0.2514 - val_accuracy: 0.9111\n",
      "Epoch 13/50\n",
      "716/716 [==============================] - 1s 2ms/step - loss: 0.2725 - accuracy: 0.9054 - val_loss: 0.2495 - val_accuracy: 0.9131\n",
      "Epoch 14/50\n",
      "716/716 [==============================] - 1s 2ms/step - loss: 0.2701 - accuracy: 0.9056 - val_loss: 0.2450 - val_accuracy: 0.9136\n",
      "Epoch 15/50\n",
      "716/716 [==============================] - 1s 2ms/step - loss: 0.2714 - accuracy: 0.9044 - val_loss: 0.2442 - val_accuracy: 0.9152\n",
      "Epoch 16/50\n",
      "716/716 [==============================] - 1s 2ms/step - loss: 0.2686 - accuracy: 0.9083 - val_loss: 0.2420 - val_accuracy: 0.9176\n",
      "Epoch 17/50\n",
      "716/716 [==============================] - 1s 2ms/step - loss: 0.2655 - accuracy: 0.9085 - val_loss: 0.2439 - val_accuracy: 0.9160\n",
      "Epoch 18/50\n",
      "716/716 [==============================] - 1s 2ms/step - loss: 0.2616 - accuracy: 0.9113 - val_loss: 0.2382 - val_accuracy: 0.9155\n",
      "Epoch 19/50\n",
      "716/716 [==============================] - 1s 2ms/step - loss: 0.2624 - accuracy: 0.9106 - val_loss: 0.2387 - val_accuracy: 0.9179\n",
      "Epoch 20/50\n",
      "716/716 [==============================] - 1s 2ms/step - loss: 0.2633 - accuracy: 0.9103 - val_loss: 0.2368 - val_accuracy: 0.9183\n",
      "Epoch 21/50\n",
      "716/716 [==============================] - 1s 2ms/step - loss: 0.2570 - accuracy: 0.9124 - val_loss: 0.2389 - val_accuracy: 0.9167\n",
      "Epoch 22/50\n",
      "716/716 [==============================] - 1s 2ms/step - loss: 0.2590 - accuracy: 0.9114 - val_loss: 0.2373 - val_accuracy: 0.9174\n",
      "Epoch 23/50\n",
      "716/716 [==============================] - 1s 2ms/step - loss: 0.2604 - accuracy: 0.9118 - val_loss: 0.2387 - val_accuracy: 0.9169\n",
      "Epoch 24/50\n",
      "716/716 [==============================] - 1s 2ms/step - loss: 0.2559 - accuracy: 0.9127 - val_loss: 0.2381 - val_accuracy: 0.9164\n",
      "Epoch 25/50\n",
      "716/716 [==============================] - 1s 2ms/step - loss: 0.2559 - accuracy: 0.9140 - val_loss: 0.2324 - val_accuracy: 0.9214\n",
      "Epoch 26/50\n",
      "716/716 [==============================] - 1s 2ms/step - loss: 0.2534 - accuracy: 0.9143 - val_loss: 0.2331 - val_accuracy: 0.9206\n",
      "Epoch 27/50\n",
      "716/716 [==============================] - 1s 2ms/step - loss: 0.2581 - accuracy: 0.9117 - val_loss: 0.2357 - val_accuracy: 0.9186\n",
      "Epoch 28/50\n",
      "716/716 [==============================] - 1s 2ms/step - loss: 0.2561 - accuracy: 0.9134 - val_loss: 0.2365 - val_accuracy: 0.9171\n",
      "Epoch 29/50\n",
      "716/716 [==============================] - 1s 2ms/step - loss: 0.2539 - accuracy: 0.9134 - val_loss: 0.2378 - val_accuracy: 0.9185\n",
      "Epoch 30/50\n",
      "716/716 [==============================] - 1s 2ms/step - loss: 0.2507 - accuracy: 0.9150 - val_loss: 0.2354 - val_accuracy: 0.9185\n",
      "Epoch 31/50\n",
      "716/716 [==============================] - 1s 2ms/step - loss: 0.2506 - accuracy: 0.9154 - val_loss: 0.2337 - val_accuracy: 0.9193\n",
      "Epoch 32/50\n",
      "716/716 [==============================] - 1s 2ms/step - loss: 0.2524 - accuracy: 0.9164 - val_loss: 0.2323 - val_accuracy: 0.9204\n",
      "Epoch 33/50\n",
      "716/716 [==============================] - 1s 2ms/step - loss: 0.2522 - accuracy: 0.9147 - val_loss: 0.2364 - val_accuracy: 0.9188\n",
      "Epoch 34/50\n",
      "716/716 [==============================] - 1s 2ms/step - loss: 0.2521 - accuracy: 0.9149 - val_loss: 0.2326 - val_accuracy: 0.9202\n",
      "Epoch 35/50\n",
      "716/716 [==============================] - 1s 2ms/step - loss: 0.2491 - accuracy: 0.9168 - val_loss: 0.2330 - val_accuracy: 0.9202\n",
      "Epoch 36/50\n",
      "716/716 [==============================] - 1s 2ms/step - loss: 0.2494 - accuracy: 0.9151 - val_loss: 0.2310 - val_accuracy: 0.9202\n",
      "Epoch 37/50\n",
      "716/716 [==============================] - 1s 2ms/step - loss: 0.2458 - accuracy: 0.9163 - val_loss: 0.2322 - val_accuracy: 0.9200\n",
      "Epoch 38/50\n",
      "716/716 [==============================] - 1s 2ms/step - loss: 0.2485 - accuracy: 0.9175 - val_loss: 0.2292 - val_accuracy: 0.9199\n",
      "Epoch 39/50\n",
      "716/716 [==============================] - 1s 2ms/step - loss: 0.2500 - accuracy: 0.9162 - val_loss: 0.2342 - val_accuracy: 0.9192\n",
      "Epoch 40/50\n",
      "716/716 [==============================] - 1s 2ms/step - loss: 0.2446 - accuracy: 0.9182 - val_loss: 0.2302 - val_accuracy: 0.9199\n",
      "Epoch 41/50\n",
      "716/716 [==============================] - 1s 2ms/step - loss: 0.2452 - accuracy: 0.9186 - val_loss: 0.2316 - val_accuracy: 0.9213\n",
      "Epoch 42/50\n",
      "716/716 [==============================] - 1s 2ms/step - loss: 0.2459 - accuracy: 0.9167 - val_loss: 0.2303 - val_accuracy: 0.9220\n",
      "Epoch 43/50\n",
      "716/716 [==============================] - 1s 2ms/step - loss: 0.2470 - accuracy: 0.9177 - val_loss: 0.2293 - val_accuracy: 0.9211\n",
      "Epoch 44/50\n",
      "716/716 [==============================] - 1s 2ms/step - loss: 0.2462 - accuracy: 0.9180 - val_loss: 0.2295 - val_accuracy: 0.9225\n",
      "Epoch 45/50\n",
      "716/716 [==============================] - 1s 2ms/step - loss: 0.2470 - accuracy: 0.9182 - val_loss: 0.2311 - val_accuracy: 0.9204\n",
      "Epoch 46/50\n",
      "716/716 [==============================] - 1s 2ms/step - loss: 0.2435 - accuracy: 0.9182 - val_loss: 0.2309 - val_accuracy: 0.9206\n",
      "Epoch 47/50\n",
      "716/716 [==============================] - 1s 2ms/step - loss: 0.2451 - accuracy: 0.9173 - val_loss: 0.2258 - val_accuracy: 0.9232\n",
      "Epoch 48/50\n",
      "716/716 [==============================] - 1s 2ms/step - loss: 0.2428 - accuracy: 0.9187 - val_loss: 0.2335 - val_accuracy: 0.9197\n",
      "Epoch 49/50\n",
      "716/716 [==============================] - 1s 2ms/step - loss: 0.2446 - accuracy: 0.9179 - val_loss: 0.2284 - val_accuracy: 0.9241\n",
      "Epoch 50/50\n",
      "716/716 [==============================] - 1s 2ms/step - loss: 0.2451 - accuracy: 0.9185 - val_loss: 0.2287 - val_accuracy: 0.9230\n"
     ]
    },
    {
     "data": {
      "text/plain": [
       "<keras.callbacks.History at 0x7fbac09fbbe0>"
      ]
     },
     "execution_count": 5,
     "metadata": {},
     "output_type": "execute_result"
    }
   ],
   "source": [
    "\n",
    "model = Sequential([\n",
    "    Dense(128, input_dim=X_train.shape[1], activation='relu'),\n",
    "    BatchNormalization(),\n",
    "    Dropout(0.5),\n",
    "    Dense(256, activation='relu'),\n",
    "    BatchNormalization(),\n",
    "    Dropout(0.5),\n",
    "    Dense(128, activation='relu'),\n",
    "    BatchNormalization(),\n",
    "    Dropout(0.5),\n",
    "    Dense(1, activation='sigmoid')\n",
    "])\n",
    "\n",
    "model.compile(optimizer='adam', \n",
    "              loss='binary_crossentropy', \n",
    "              metrics=['accuracy'])\n",
    "\n",
    "model.fit(X_train, y_train, epochs=50, batch_size=32, validation_data=(X_test, y_test))\n"
   ]
  },
  {
   "cell_type": "markdown",
   "id": "aa9e244c",
   "metadata": {},
   "source": [
    "Hyperparameter Tuning on Random Forest Model"
   ]
  },
  {
   "cell_type": "code",
   "execution_count": 6,
   "id": "526a9797",
   "metadata": {},
   "outputs": [
    {
     "name": "stdout",
     "output_type": "stream",
     "text": [
      "Fitting 5 folds for each of 10 candidates, totalling 50 fits\n",
      "Intel MKL WARNING: Support of Intel(R) Streaming SIMD Extensions 4.2 (Intel(R) SSE4.2) enabled only processors has been deprecated. Intel oneAPI Math Kernel Library 2025.0 will require Intel(R) Advanced Vector Extensions (Intel(R) AVX) instructions.\n",
      "Intel MKL WARNING: Support of Intel(R) Streaming SIMD Extensions 4.2 (Intel(R) SSE4.2) enabled only processors has been deprecated. Intel oneAPI Math Kernel Library 2025.0 will require Intel(R) Advanced Vector Extensions (Intel(R) AVX) instructions.\n",
      "Intel MKL WARNING: Support of Intel(R) Streaming SIMD Extensions 4.2 (Intel(R) SSE4.2) enabled only processors has been deprecated. Intel oneAPI Math Kernel Library 2025.0 will require Intel(R) Advanced Vector Extensions (Intel(R) AVX) instructions.\n",
      "Intel MKL WARNING: Support of Intel(R) Streaming SIMD Extensions 4.2 (Intel(R) SSE4.2) enabled only processors has been deprecated. Intel oneAPI Math Kernel Library 2025.0 will require Intel(R) Advanced Vector Extensions (Intel(R) AVX) instructions.\n",
      "Intel MKL WARNING: Support of Intel(R) Streaming SIMD Extensions 4.2 (Intel(R) SSE4.2) enabled only processors has been deprecated. Intel oneAPI Math Kernel Library 2025.0 will require Intel(R) Advanced Vector Extensions (Intel(R) AVX) instructions.\n",
      "Intel MKL WARNING: Support of Intel(R) Streaming SIMD Extensions 4.2 (Intel(R) SSE4.2) enabled only processors has been deprecated. Intel oneAPI Math Kernel Library 2025.0 will require Intel(R) Advanced Vector Extensions (Intel(R) AVX) instructions.\n",
      "Intel MKL WARNING: Support of Intel(R) Streaming SIMD Extensions 4.2 (Intel(R) SSE4.2) enabled only processors has been deprecated. Intel oneAPI Math Kernel Library 2025.0 will require Intel(R) Advanced Vector Extensions (Intel(R) AVX) instructions.\n",
      "Intel MKL WARNING: Support of Intel(R) Streaming SIMD Extensions 4.2 (Intel(R) SSE4.2) enabled only processors has been deprecated. Intel oneAPI Math Kernel Library 2025.0 will require Intel(R) Advanced Vector Extensions (Intel(R) AVX) instructions.\n",
      "Intel MKL WARNING: Support of Intel(R) Streaming SIMD Extensions 4.2 (Intel(R) SSE4.2) enabled only processors has been deprecated. Intel oneAPI Math Kernel Library 2025.0 will require Intel(R) Advanced Vector Extensions (Intel(R) AVX) instructions.\n",
      "Intel MKL WARNING: Support of Intel(R) Streaming SIMD Extensions 4.2 (Intel(R) SSE4.2) enabled only processors has been deprecated. Intel oneAPI Math Kernel Library 2025.0 will require Intel(R) Advanced Vector Extensions (Intel(R) AVX) instructions.\n",
      "Intel MKL WARNING: Support of Intel(R) Streaming SIMD Extensions 4.2 (Intel(R) SSE4.2) enabled only processors has been deprecated. Intel oneAPI Math Kernel Library 2025.0 will require Intel(R) Advanced Vector Extensions (Intel(R) AVX) instructions.\n",
      "Intel MKL WARNING: Support of Intel(R) Streaming SIMD Extensions 4.2 (Intel(R) SSE4.2) enabled only processors has been deprecated. Intel oneAPI Math Kernel Library 2025.0 will require Intel(R) Advanced Vector Extensions (Intel(R) AVX) instructions.\n",
      "Intel MKL WARNING: Support of Intel(R) Streaming SIMD Extensions 4.2 (Intel(R) SSE4.2) enabled only processors has been deprecated. Intel oneAPI Math Kernel Library 2025.0 will require Intel(R) Advanced Vector Extensions (Intel(R) AVX) instructions.\n",
      "Intel MKL WARNING: Support of Intel(R) Streaming SIMD Extensions 4.2 (Intel(R) SSE4.2) enabled only processors has been deprecated. Intel oneAPI Math Kernel Library 2025.0 will require Intel(R) Advanced Vector Extensions (Intel(R) AVX) instructions.\n",
      "Intel MKL WARNING: Support of Intel(R) Streaming SIMD Extensions 4.2 (Intel(R) SSE4.2) enabled only processors has been deprecated. Intel oneAPI Math Kernel Library 2025.0 will require Intel(R) Advanced Vector Extensions (Intel(R) AVX) instructions.\n",
      "Intel MKL WARNING: Support of Intel(R) Streaming SIMD Extensions 4.2 (Intel(R) SSE4.2) enabled only processors has been deprecated. Intel oneAPI Math Kernel Library 2025.0 will require Intel(R) Advanced Vector Extensions (Intel(R) AVX) instructions.\n",
      "Intel MKL WARNING: Support of Intel(R) Streaming SIMD Extensions 4.2 (Intel(R) SSE4.2) enabled only processors has been deprecated. Intel oneAPI Math Kernel Library 2025.0 will require Intel(R) Advanced Vector Extensions (Intel(R) AVX) instructions.\n",
      "Intel MKL WARNING: Support of Intel(R) Streaming SIMD Extensions 4.2 (Intel(R) SSE4.2) enabled only processors has been deprecated. Intel oneAPI Math Kernel Library 2025.0 will require Intel(R) Advanced Vector Extensions (Intel(R) AVX) instructions.\n"
     ]
    },
    {
     "name": "stderr",
     "output_type": "stream",
     "text": [
      "/Users/nafiskhan/anaconda3/lib/python3.10/site-packages/sklearn/ensemble/_forest.py:424: FutureWarning: `max_features='auto'` has been deprecated in 1.1 and will be removed in 1.3. To keep the past behaviour, explicitly set `max_features='sqrt'` or remove this parameter as it is also the default value for RandomForestClassifiers and ExtraTreesClassifiers.\n",
      "  warn(\n",
      "/Users/nafiskhan/anaconda3/lib/python3.10/site-packages/sklearn/ensemble/_forest.py:424: FutureWarning: `max_features='auto'` has been deprecated in 1.1 and will be removed in 1.3. To keep the past behaviour, explicitly set `max_features='sqrt'` or remove this parameter as it is also the default value for RandomForestClassifiers and ExtraTreesClassifiers.\n",
      "  warn(\n",
      "/Users/nafiskhan/anaconda3/lib/python3.10/site-packages/sklearn/ensemble/_forest.py:424: FutureWarning: `max_features='auto'` has been deprecated in 1.1 and will be removed in 1.3. To keep the past behaviour, explicitly set `max_features='sqrt'` or remove this parameter as it is also the default value for RandomForestClassifiers and ExtraTreesClassifiers.\n",
      "  warn(\n",
      "/Users/nafiskhan/anaconda3/lib/python3.10/site-packages/sklearn/ensemble/_forest.py:424: FutureWarning: `max_features='auto'` has been deprecated in 1.1 and will be removed in 1.3. To keep the past behaviour, explicitly set `max_features='sqrt'` or remove this parameter as it is also the default value for RandomForestClassifiers and ExtraTreesClassifiers.\n",
      "  warn(\n",
      "/Users/nafiskhan/anaconda3/lib/python3.10/site-packages/sklearn/ensemble/_forest.py:424: FutureWarning: `max_features='auto'` has been deprecated in 1.1 and will be removed in 1.3. To keep the past behaviour, explicitly set `max_features='sqrt'` or remove this parameter as it is also the default value for RandomForestClassifiers and ExtraTreesClassifiers.\n",
      "  warn(\n",
      "/Users/nafiskhan/anaconda3/lib/python3.10/site-packages/sklearn/ensemble/_forest.py:424: FutureWarning: `max_features='auto'` has been deprecated in 1.1 and will be removed in 1.3. To keep the past behaviour, explicitly set `max_features='sqrt'` or remove this parameter as it is also the default value for RandomForestClassifiers and ExtraTreesClassifiers.\n",
      "  warn(\n",
      "/Users/nafiskhan/anaconda3/lib/python3.10/site-packages/sklearn/ensemble/_forest.py:424: FutureWarning: `max_features='auto'` has been deprecated in 1.1 and will be removed in 1.3. To keep the past behaviour, explicitly set `max_features='sqrt'` or remove this parameter as it is also the default value for RandomForestClassifiers and ExtraTreesClassifiers.\n",
      "  warn(\n",
      "/Users/nafiskhan/anaconda3/lib/python3.10/site-packages/sklearn/ensemble/_forest.py:424: FutureWarning: `max_features='auto'` has been deprecated in 1.1 and will be removed in 1.3. To keep the past behaviour, explicitly set `max_features='sqrt'` or remove this parameter as it is also the default value for RandomForestClassifiers and ExtraTreesClassifiers.\n",
      "  warn(\n",
      "/Users/nafiskhan/anaconda3/lib/python3.10/site-packages/sklearn/ensemble/_forest.py:424: FutureWarning: `max_features='auto'` has been deprecated in 1.1 and will be removed in 1.3. To keep the past behaviour, explicitly set `max_features='sqrt'` or remove this parameter as it is also the default value for RandomForestClassifiers and ExtraTreesClassifiers.\n",
      "  warn(\n",
      "/Users/nafiskhan/anaconda3/lib/python3.10/site-packages/sklearn/ensemble/_forest.py:424: FutureWarning: `max_features='auto'` has been deprecated in 1.1 and will be removed in 1.3. To keep the past behaviour, explicitly set `max_features='sqrt'` or remove this parameter as it is also the default value for RandomForestClassifiers and ExtraTreesClassifiers.\n",
      "  warn(\n",
      "/Users/nafiskhan/anaconda3/lib/python3.10/site-packages/sklearn/ensemble/_forest.py:424: FutureWarning: `max_features='auto'` has been deprecated in 1.1 and will be removed in 1.3. To keep the past behaviour, explicitly set `max_features='sqrt'` or remove this parameter as it is also the default value for RandomForestClassifiers and ExtraTreesClassifiers.\n",
      "  warn(\n",
      "/Users/nafiskhan/anaconda3/lib/python3.10/site-packages/sklearn/ensemble/_forest.py:424: FutureWarning: `max_features='auto'` has been deprecated in 1.1 and will be removed in 1.3. To keep the past behaviour, explicitly set `max_features='sqrt'` or remove this parameter as it is also the default value for RandomForestClassifiers and ExtraTreesClassifiers.\n",
      "  warn(\n",
      "/Users/nafiskhan/anaconda3/lib/python3.10/site-packages/sklearn/ensemble/_forest.py:424: FutureWarning: `max_features='auto'` has been deprecated in 1.1 and will be removed in 1.3. To keep the past behaviour, explicitly set `max_features='sqrt'` or remove this parameter as it is also the default value for RandomForestClassifiers and ExtraTreesClassifiers.\n",
      "  warn(\n",
      "/Users/nafiskhan/anaconda3/lib/python3.10/site-packages/sklearn/ensemble/_forest.py:424: FutureWarning: `max_features='auto'` has been deprecated in 1.1 and will be removed in 1.3. To keep the past behaviour, explicitly set `max_features='sqrt'` or remove this parameter as it is also the default value for RandomForestClassifiers and ExtraTreesClassifiers.\n",
      "  warn(\n",
      "/Users/nafiskhan/anaconda3/lib/python3.10/site-packages/sklearn/ensemble/_forest.py:424: FutureWarning: `max_features='auto'` has been deprecated in 1.1 and will be removed in 1.3. To keep the past behaviour, explicitly set `max_features='sqrt'` or remove this parameter as it is also the default value for RandomForestClassifiers and ExtraTreesClassifiers.\n",
      "  warn(\n",
      "/Users/nafiskhan/anaconda3/lib/python3.10/site-packages/sklearn/ensemble/_forest.py:424: FutureWarning: `max_features='auto'` has been deprecated in 1.1 and will be removed in 1.3. To keep the past behaviour, explicitly set `max_features='sqrt'` or remove this parameter as it is also the default value for RandomForestClassifiers and ExtraTreesClassifiers.\n",
      "  warn(\n",
      "/Users/nafiskhan/anaconda3/lib/python3.10/site-packages/sklearn/ensemble/_forest.py:424: FutureWarning: `max_features='auto'` has been deprecated in 1.1 and will be removed in 1.3. To keep the past behaviour, explicitly set `max_features='sqrt'` or remove this parameter as it is also the default value for RandomForestClassifiers and ExtraTreesClassifiers.\n",
      "  warn(\n",
      "/Users/nafiskhan/anaconda3/lib/python3.10/site-packages/sklearn/ensemble/_forest.py:424: FutureWarning: `max_features='auto'` has been deprecated in 1.1 and will be removed in 1.3. To keep the past behaviour, explicitly set `max_features='sqrt'` or remove this parameter as it is also the default value for RandomForestClassifiers and ExtraTreesClassifiers.\n",
      "  warn(\n",
      "/Users/nafiskhan/anaconda3/lib/python3.10/site-packages/sklearn/ensemble/_forest.py:424: FutureWarning: `max_features='auto'` has been deprecated in 1.1 and will be removed in 1.3. To keep the past behaviour, explicitly set `max_features='sqrt'` or remove this parameter as it is also the default value for RandomForestClassifiers and ExtraTreesClassifiers.\n",
      "  warn(\n",
      "/Users/nafiskhan/anaconda3/lib/python3.10/site-packages/sklearn/ensemble/_forest.py:424: FutureWarning: `max_features='auto'` has been deprecated in 1.1 and will be removed in 1.3. To keep the past behaviour, explicitly set `max_features='sqrt'` or remove this parameter as it is also the default value for RandomForestClassifiers and ExtraTreesClassifiers.\n",
      "  warn(\n",
      "`max_features='auto'` has been deprecated in 1.1 and will be removed in 1.3. To keep the past behaviour, explicitly set `max_features='sqrt'` or remove this parameter as it is also the default value for RandomForestClassifiers and ExtraTreesClassifiers.\n"
     ]
    }
   ],
   "source": [
    "\n",
    "param_dist = {'n_estimators': [50, 100, 150],\n",
    "              'max_features': ['auto', 'sqrt', 'log2'],\n",
    "              'max_depth': [10, 20, 30, None],\n",
    "              'bootstrap': [True, False]}\n",
    "\n",
    "random_search_rf = RandomizedSearchCV(RandomForestClassifier(), param_distributions=param_dist, n_iter=10, cv=5, verbose=2, n_jobs=-1)\n",
    "random_search_rf.fit(X_train_poly, y_train)\n",
    "\n",
    "best_rf_model = random_search_rf.best_estimator_\n"
   ]
  },
  {
   "cell_type": "markdown",
   "id": "67533f51",
   "metadata": {},
   "source": [
    "Final Model Evaluation"
   ]
  },
  {
   "cell_type": "code",
   "execution_count": 7,
   "id": "76069830",
   "metadata": {},
   "outputs": [
    {
     "name": "stdout",
     "output_type": "stream",
     "text": [
      "Random Forest Model Accuracy: 93.37%\n",
      "\n",
      "Confusion Matrix:\n",
      "[[4404   39]\n",
      " [ 341  944]]\n",
      "\n",
      "Classification Report:\n",
      "              precision    recall  f1-score   support\n",
      "\n",
      "           0       0.93      0.99      0.96      4443\n",
      "           1       0.96      0.73      0.83      1285\n",
      "\n",
      "    accuracy                           0.93      5728\n",
      "   macro avg       0.94      0.86      0.90      5728\n",
      "weighted avg       0.94      0.93      0.93      5728\n",
      "\n"
     ]
    }
   ],
   "source": [
    "\n",
    "rf_predictions = best_rf_model.predict(X_test_poly)\n",
    "print(f\"Random Forest Model Accuracy: {accuracy_score(y_test, rf_predictions)*100:.2f}%\")\n",
    "print(\"\\nConfusion Matrix:\")\n",
    "print(confusion_matrix(y_test, rf_predictions))\n",
    "print(\"\\nClassification Report:\")\n",
    "print(classification_report(y_test, rf_predictions))\n",
    "\n"
   ]
  },
  {
   "cell_type": "markdown",
   "id": "ee22efb2",
   "metadata": {},
   "source": [
    "SHAP Values Calculation and Plot"
   ]
  },
  {
   "cell_type": "code",
   "execution_count": null,
   "id": "122b70b4",
   "metadata": {},
   "outputs": [],
   "source": [
    "\n",
    "explainer = shap.TreeExplainer(best_rf_model)\n",
    "shap_values = explainer.shap_values(X_test_poly)\n",
    "shap.summary_plot(shap_values, X_test_poly, plot_type=\"bar\")"
   ]
  }
 ],
 "metadata": {
  "kernelspec": {
   "display_name": "Python 3 (ipykernel)",
   "language": "python",
   "name": "python3"
  },
  "language_info": {
   "codemirror_mode": {
    "name": "ipython",
    "version": 3
   },
   "file_extension": ".py",
   "mimetype": "text/x-python",
   "name": "python",
   "nbconvert_exporter": "python",
   "pygments_lexer": "ipython3",
   "version": "3.10.9"
  }
 },
 "nbformat": 4,
 "nbformat_minor": 5
}
