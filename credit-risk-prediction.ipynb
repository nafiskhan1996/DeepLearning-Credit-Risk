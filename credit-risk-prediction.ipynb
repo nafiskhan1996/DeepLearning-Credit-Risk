{
 "cells": [
  {
   "cell_type": "markdown",
   "id": "4675e949",
   "metadata": {},
   "source": [
    "Import Necessary Libraries\n"
   ]
  },
  {
   "cell_type": "code",
   "execution_count": 32,
   "id": "73c65144",
   "metadata": {},
   "outputs": [],
   "source": [
    "import pandas as pd\n",
    "import numpy as np\n",
    "from sklearn.model_selection import train_test_split, GridSearchCV  # Ensure this line is present and correct\n",
    "from sklearn.svm import SVC\n",
    "from sklearn.metrics import classification_report, confusion_matrix\n"
   ]
  },
  {
   "cell_type": "markdown",
   "id": "efd233d5",
   "metadata": {},
   "source": [
    "Load the Dataset"
   ]
  },
  {
   "cell_type": "code",
   "execution_count": 33,
   "id": "46a0a0ed",
   "metadata": {},
   "outputs": [],
   "source": [
    "df = pd.read_csv('credit_risk_dataset.csv')\n"
   ]
  },
  {
   "cell_type": "markdown",
   "id": "9bec0433",
   "metadata": {},
   "source": [
    "Explore the Dataset"
   ]
  },
  {
   "cell_type": "code",
   "execution_count": 34,
   "id": "032295fa",
   "metadata": {},
   "outputs": [
    {
     "name": "stdout",
     "output_type": "stream",
     "text": [
      "   person_age  person_income person_home_ownership  person_emp_length  \\\n",
      "0          22          59000                  RENT              123.0   \n",
      "1          21           9600                   OWN                5.0   \n",
      "2          25           9600              MORTGAGE                1.0   \n",
      "3          23          65500                  RENT                4.0   \n",
      "4          24          54400                  RENT                8.0   \n",
      "\n",
      "  loan_intent loan_grade  loan_amnt  loan_int_rate  loan_status  \\\n",
      "0    PERSONAL          D      35000          16.02            1   \n",
      "1   EDUCATION          B       1000          11.14            0   \n",
      "2     MEDICAL          C       5500          12.87            1   \n",
      "3     MEDICAL          C      35000          15.23            1   \n",
      "4     MEDICAL          C      35000          14.27            1   \n",
      "\n",
      "   loan_percent_income cb_person_default_on_file  cb_person_cred_hist_length  \n",
      "0                 0.59                         Y                           3  \n",
      "1                 0.10                         N                           2  \n",
      "2                 0.57                         N                           3  \n",
      "3                 0.53                         N                           2  \n",
      "4                 0.55                         Y                           4  \n"
     ]
    }
   ],
   "source": [
    "print(df.head())\n"
   ]
  },
  {
   "cell_type": "markdown",
   "id": "61dc12a8",
   "metadata": {},
   "source": [
    "Handle Missing Values"
   ]
  },
  {
   "cell_type": "code",
   "execution_count": 35,
   "id": "3d7370b7",
   "metadata": {},
   "outputs": [
    {
     "name": "stdout",
     "output_type": "stream",
     "text": [
      "person_age                       0\n",
      "person_income                    0\n",
      "person_home_ownership            0\n",
      "person_emp_length              895\n",
      "loan_intent                      0\n",
      "loan_grade                       0\n",
      "loan_amnt                        0\n",
      "loan_int_rate                 3116\n",
      "loan_status                      0\n",
      "loan_percent_income              0\n",
      "cb_person_default_on_file        0\n",
      "cb_person_cred_hist_length       0\n",
      "dtype: int64\n"
     ]
    }
   ],
   "source": [
    "print(df.isnull().sum())  # Check for missing values\n",
    "df = df.dropna()  # Drop missing values or use imputation as appropriate\n"
   ]
  },
  {
   "cell_type": "markdown",
   "id": "064470e2",
   "metadata": {},
   "source": [
    "Encode Categorical Features"
   ]
  },
  {
   "cell_type": "code",
   "execution_count": 36,
   "id": "ec2d899d",
   "metadata": {},
   "outputs": [],
   "source": [
    "df = pd.get_dummies(df, columns=['person_home_ownership', 'loan_intent', 'loan_grade'], drop_first=True)\n"
   ]
  },
  {
   "cell_type": "code",
   "execution_count": 37,
   "id": "6e6a40c4",
   "metadata": {},
   "outputs": [],
   "source": [
    "df['cb_person_default_on_file'] = df['cb_person_default_on_file'].map({'Y': 1, 'N': 0})\n"
   ]
  },
  {
   "cell_type": "code",
   "execution_count": 38,
   "id": "0ad81da1",
   "metadata": {},
   "outputs": [
    {
     "name": "stdout",
     "output_type": "stream",
     "text": [
      "[1 0]\n"
     ]
    }
   ],
   "source": [
    "print(df['cb_person_default_on_file'].unique())  # It should print [1 0]\n"
   ]
  },
  {
   "cell_type": "markdown",
   "id": "86804988",
   "metadata": {},
   "source": [
    "Split Data"
   ]
  },
  {
   "cell_type": "code",
   "execution_count": 39,
   "id": "fbff6753",
   "metadata": {},
   "outputs": [],
   "source": [
    "from sklearn.model_selection import train_test_split\n",
    "\n",
    "X = df.drop('loan_status', axis=1)\n",
    "y = df['loan_status']\n",
    "\n",
    "X_train, X_test, y_train, y_test = train_test_split(X, y, test_size=0.2, random_state=42)\n"
   ]
  },
  {
   "cell_type": "code",
   "execution_count": 40,
   "id": "85982f28",
   "metadata": {},
   "outputs": [
    {
     "name": "stdout",
     "output_type": "stream",
     "text": [
      "Fitting 5 folds for each of 10 candidates, totalling 50 fits\n",
      "[CV] END ...................C=100.0, gamma=100.0, kernel=rbf; total time= 1.3min\n",
      "[CV] END .....................C=0.1, gamma=100.0, kernel=rbf; total time=  53.0s\n",
      "[CV] END .....................C=1.0, gamma=0.001, kernel=rbf; total time=  11.0s\n",
      "[CV] END .....................C=0.1, gamma=0.001, kernel=rbf; total time=  11.3s\n",
      "[CV] END ....................C=0.001, gamma=10.0, kernel=rbf; total time=  19.1s\n",
      "[CV] END ....................C=0.001, gamma=10.0, kernel=rbf; total time=  18.9s\n",
      "[CV] END ....................C=100.0, gamma=10.0, kernel=rbf; total time= 1.1min\n",
      "[CV] END .......................C=1.0, gamma=0.1, kernel=rbf; total time=  50.3s\n",
      "[CV] END .....................C=10.0, gamma=10.0, kernel=rbf; total time= 1.2min\n",
      "[CV] END ......................C=1.0, gamma=10.0, kernel=rbf; total time= 1.0min\n",
      "[CV] END ...................C=100.0, gamma=100.0, kernel=rbf; total time= 1.1min\n",
      "[CV] END ......................C=1.0, gamma=0.01, kernel=rbf; total time=  13.1s\n",
      "[CV] END ......................C=1.0, gamma=0.01, kernel=rbf; total time=   8.9s\n",
      "[CV] END .....................C=0.1, gamma=100.0, kernel=rbf; total time=  52.6s\n",
      "[CV] END .....................C=0.001, gamma=0.1, kernel=rbf; total time=  12.7s\n",
      "[CV] END ....................C=10.0, gamma=100.0, kernel=rbf; total time= 1.2min\n",
      "[CV] END .....................C=0.001, gamma=1.0, kernel=rbf; total time=  11.7s\n",
      "[CV] END .....................C=0.001, gamma=1.0, kernel=rbf; total time=  10.2s\n",
      "[CV] END ......................C=1.0, gamma=0.01, kernel=rbf; total time=   8.9s\n",
      "[CV] END ...................C=100.0, gamma=100.0, kernel=rbf; total time= 1.3min\n",
      "[CV] END ...................C=0.001, gamma=100.0, kernel=rbf; total time=  19.1s\n",
      "[CV] END ...................C=0.001, gamma=100.0, kernel=rbf; total time=  18.3s\n",
      "[CV] END .....................C=1.0, gamma=0.001, kernel=rbf; total time=  10.8s\n",
      "[CV] END ....................C=0.01, gamma=0.001, kernel=rbf; total time=  12.4s\n",
      "[CV] END ....................C=0.001, gamma=10.0, kernel=rbf; total time=  19.0s\n",
      "[CV] END ....................C=0.001, gamma=10.0, kernel=rbf; total time=  19.5s\n",
      "[CV] END ....................C=100.0, gamma=10.0, kernel=rbf; total time= 1.2min\n",
      "[CV] END ......................C=0.01, gamma=0.1, kernel=rbf; total time=  35.7s\n",
      "[CV] END .....................C=10.0, gamma=10.0, kernel=rbf; total time= 1.2min\n",
      "[CV] END ......................C=1.0, gamma=10.0, kernel=rbf; total time= 1.1min\n",
      "[CV] END ....................C=0.001, gamma=0.01, kernel=rbf; total time=  17.0s\n",
      "[CV] END ...................C=100.0, gamma=100.0, kernel=rbf; total time=  59.2s\n",
      "[CV] END ......................C=0.1, gamma=0.01, kernel=rbf; total time=  15.4s\n",
      "[CV] END .....................C=100.0, gamma=0.1, kernel=rbf; total time=  25.2s\n",
      "[CV] END ....................C=0.001, gamma=10.0, kernel=rbf; total time=  12.8s\n",
      "[CV] END .....................C=10.0, gamma=0.01, kernel=rbf; total time=   9.6s\n",
      "[CV] END .....................C=10.0, gamma=0.01, kernel=rbf; total time=   9.5s\n",
      "[CV] END .....................C=10.0, gamma=0.01, kernel=rbf; total time=   9.9s\n",
      "[CV] END ....................C=10.0, gamma=100.0, kernel=rbf; total time= 1.6min\n",
      "[CV] END ......................C=1.0, gamma=0.01, kernel=rbf; total time=   9.9s\n",
      "[CV] END ......................C=10.0, gamma=0.1, kernel=rbf; total time=  12.1s\n",
      "[CV] END ......................C=10.0, gamma=0.1, kernel=rbf; total time=  12.6s\n",
      "[CV] END ...................C=0.001, gamma=0.001, kernel=rbf; total time=  13.5s\n",
      "[CV] END .......................C=1.0, gamma=0.1, kernel=rbf; total time=  10.6s\n",
      "[CV] END .......................C=1.0, gamma=0.1, kernel=rbf; total time=  10.9s\n",
      "[CV] END .....................C=0.1, gamma=100.0, kernel=rbf; total time= 1.0min\n",
      "[CV] END .....................C=1.0, gamma=0.001, kernel=rbf; total time=  11.7s\n",
      "[CV] END .....................C=0.1, gamma=0.001, kernel=rbf; total time=  12.1s\n",
      "[CV] END ....................C=100.0, gamma=0.01, kernel=rbf; total time= 1.1min\n",
      "[CV] END .......................C=1.0, gamma=0.1, kernel=rbf; total time=  59.7s\n",
      "[CV] END ......................C=0.01, gamma=0.1, kernel=rbf; total time=  41.8s\n",
      "[CV] END ......................C=1.0, gamma=10.0, kernel=rbf; total time= 1.2min\n",
      "[CV] END ....................C=10.0, gamma=0.001, kernel=rbf; total time=  55.6s\n",
      "[CV] END ...................C=100.0, gamma=100.0, kernel=rbf; total time= 1.1min\n"
     ]
    },
    {
     "data": {
      "text/html": [
       "<style>#sk-container-id-3 {color: black;background-color: white;}#sk-container-id-3 pre{padding: 0;}#sk-container-id-3 div.sk-toggleable {background-color: white;}#sk-container-id-3 label.sk-toggleable__label {cursor: pointer;display: block;width: 100%;margin-bottom: 0;padding: 0.3em;box-sizing: border-box;text-align: center;}#sk-container-id-3 label.sk-toggleable__label-arrow:before {content: \"▸\";float: left;margin-right: 0.25em;color: #696969;}#sk-container-id-3 label.sk-toggleable__label-arrow:hover:before {color: black;}#sk-container-id-3 div.sk-estimator:hover label.sk-toggleable__label-arrow:before {color: black;}#sk-container-id-3 div.sk-toggleable__content {max-height: 0;max-width: 0;overflow: hidden;text-align: left;background-color: #f0f8ff;}#sk-container-id-3 div.sk-toggleable__content pre {margin: 0.2em;color: black;border-radius: 0.25em;background-color: #f0f8ff;}#sk-container-id-3 input.sk-toggleable__control:checked~div.sk-toggleable__content {max-height: 200px;max-width: 100%;overflow: auto;}#sk-container-id-3 input.sk-toggleable__control:checked~label.sk-toggleable__label-arrow:before {content: \"▾\";}#sk-container-id-3 div.sk-estimator input.sk-toggleable__control:checked~label.sk-toggleable__label {background-color: #d4ebff;}#sk-container-id-3 div.sk-label input.sk-toggleable__control:checked~label.sk-toggleable__label {background-color: #d4ebff;}#sk-container-id-3 input.sk-hidden--visually {border: 0;clip: rect(1px 1px 1px 1px);clip: rect(1px, 1px, 1px, 1px);height: 1px;margin: -1px;overflow: hidden;padding: 0;position: absolute;width: 1px;}#sk-container-id-3 div.sk-estimator {font-family: monospace;background-color: #f0f8ff;border: 1px dotted black;border-radius: 0.25em;box-sizing: border-box;margin-bottom: 0.5em;}#sk-container-id-3 div.sk-estimator:hover {background-color: #d4ebff;}#sk-container-id-3 div.sk-parallel-item::after {content: \"\";width: 100%;border-bottom: 1px solid gray;flex-grow: 1;}#sk-container-id-3 div.sk-label:hover label.sk-toggleable__label {background-color: #d4ebff;}#sk-container-id-3 div.sk-serial::before {content: \"\";position: absolute;border-left: 1px solid gray;box-sizing: border-box;top: 0;bottom: 0;left: 50%;z-index: 0;}#sk-container-id-3 div.sk-serial {display: flex;flex-direction: column;align-items: center;background-color: white;padding-right: 0.2em;padding-left: 0.2em;position: relative;}#sk-container-id-3 div.sk-item {position: relative;z-index: 1;}#sk-container-id-3 div.sk-parallel {display: flex;align-items: stretch;justify-content: center;background-color: white;position: relative;}#sk-container-id-3 div.sk-item::before, #sk-container-id-3 div.sk-parallel-item::before {content: \"\";position: absolute;border-left: 1px solid gray;box-sizing: border-box;top: 0;bottom: 0;left: 50%;z-index: -1;}#sk-container-id-3 div.sk-parallel-item {display: flex;flex-direction: column;z-index: 1;position: relative;background-color: white;}#sk-container-id-3 div.sk-parallel-item:first-child::after {align-self: flex-end;width: 50%;}#sk-container-id-3 div.sk-parallel-item:last-child::after {align-self: flex-start;width: 50%;}#sk-container-id-3 div.sk-parallel-item:only-child::after {width: 0;}#sk-container-id-3 div.sk-dashed-wrapped {border: 1px dashed gray;margin: 0 0.4em 0.5em 0.4em;box-sizing: border-box;padding-bottom: 0.4em;background-color: white;}#sk-container-id-3 div.sk-label label {font-family: monospace;font-weight: bold;display: inline-block;line-height: 1.2em;}#sk-container-id-3 div.sk-label-container {text-align: center;}#sk-container-id-3 div.sk-container {/* jupyter's `normalize.less` sets `[hidden] { display: none; }` but bootstrap.min.css set `[hidden] { display: none !important; }` so we also need the `!important` here to be able to override the default hidden behavior on the sphinx rendered scikit-learn.org. See: https://github.com/scikit-learn/scikit-learn/issues/21755 */display: inline-block !important;position: relative;}#sk-container-id-3 div.sk-text-repr-fallback {display: none;}</style><div id=\"sk-container-id-3\" class=\"sk-top-container\"><div class=\"sk-text-repr-fallback\"><pre>RandomizedSearchCV(cv=5, estimator=SVC(), n_jobs=-1,\n",
       "                   param_distributions={&#x27;C&#x27;: array([1.e-03, 1.e-02, 1.e-01, 1.e+00, 1.e+01, 1.e+02]),\n",
       "                                        &#x27;gamma&#x27;: array([1.e-03, 1.e-02, 1.e-01, 1.e+00, 1.e+01, 1.e+02]),\n",
       "                                        &#x27;kernel&#x27;: [&#x27;rbf&#x27;]},\n",
       "                   verbose=2)</pre><b>In a Jupyter environment, please rerun this cell to show the HTML representation or trust the notebook. <br />On GitHub, the HTML representation is unable to render, please try loading this page with nbviewer.org.</b></div><div class=\"sk-container\" hidden><div class=\"sk-item sk-dashed-wrapped\"><div class=\"sk-label-container\"><div class=\"sk-label sk-toggleable\"><input class=\"sk-toggleable__control sk-hidden--visually\" id=\"sk-estimator-id-7\" type=\"checkbox\" ><label for=\"sk-estimator-id-7\" class=\"sk-toggleable__label sk-toggleable__label-arrow\">RandomizedSearchCV</label><div class=\"sk-toggleable__content\"><pre>RandomizedSearchCV(cv=5, estimator=SVC(), n_jobs=-1,\n",
       "                   param_distributions={&#x27;C&#x27;: array([1.e-03, 1.e-02, 1.e-01, 1.e+00, 1.e+01, 1.e+02]),\n",
       "                                        &#x27;gamma&#x27;: array([1.e-03, 1.e-02, 1.e-01, 1.e+00, 1.e+01, 1.e+02]),\n",
       "                                        &#x27;kernel&#x27;: [&#x27;rbf&#x27;]},\n",
       "                   verbose=2)</pre></div></div></div><div class=\"sk-parallel\"><div class=\"sk-parallel-item\"><div class=\"sk-item\"><div class=\"sk-label-container\"><div class=\"sk-label sk-toggleable\"><input class=\"sk-toggleable__control sk-hidden--visually\" id=\"sk-estimator-id-8\" type=\"checkbox\" ><label for=\"sk-estimator-id-8\" class=\"sk-toggleable__label sk-toggleable__label-arrow\">estimator: SVC</label><div class=\"sk-toggleable__content\"><pre>SVC()</pre></div></div></div><div class=\"sk-serial\"><div class=\"sk-item\"><div class=\"sk-estimator sk-toggleable\"><input class=\"sk-toggleable__control sk-hidden--visually\" id=\"sk-estimator-id-9\" type=\"checkbox\" ><label for=\"sk-estimator-id-9\" class=\"sk-toggleable__label sk-toggleable__label-arrow\">SVC</label><div class=\"sk-toggleable__content\"><pre>SVC()</pre></div></div></div></div></div></div></div></div></div></div>"
      ],
      "text/plain": [
       "RandomizedSearchCV(cv=5, estimator=SVC(), n_jobs=-1,\n",
       "                   param_distributions={'C': array([1.e-03, 1.e-02, 1.e-01, 1.e+00, 1.e+01, 1.e+02]),\n",
       "                                        'gamma': array([1.e-03, 1.e-02, 1.e-01, 1.e+00, 1.e+01, 1.e+02]),\n",
       "                                        'kernel': ['rbf']},\n",
       "                   verbose=2)"
      ]
     },
     "execution_count": 40,
     "metadata": {},
     "output_type": "execute_result"
    }
   ],
   "source": [
    "from sklearn.model_selection import RandomizedSearchCV\n",
    "from sklearn.svm import SVC\n",
    "import numpy as np\n",
    "\n",
    "param_dist = {'C': np.logspace(-3, 2, 6), 'gamma': np.logspace(-3, 2, 6), 'kernel': ['rbf']}\n",
    "\n",
    "# Using fewer iterations and all CPU cores\n",
    "random_search = RandomizedSearchCV(SVC(), param_distributions=param_dist, n_iter=10, cv=5, verbose=2, n_jobs=-1)\n",
    "random_search.fit(X_train, y_train)\n"
   ]
  },
  {
   "cell_type": "markdown",
   "id": "ca9aebb7",
   "metadata": {},
   "source": [
    "Normalize Data"
   ]
  },
  {
   "cell_type": "code",
   "execution_count": 41,
   "id": "af187e68",
   "metadata": {},
   "outputs": [],
   "source": [
    "from sklearn.preprocessing import StandardScaler\n",
    "\n",
    "scaler = StandardScaler()\n",
    "X_train = scaler.fit_transform(X_train)\n",
    "X_test = scaler.transform(X_test)\n"
   ]
  },
  {
   "cell_type": "code",
   "execution_count": 42,
   "id": "0eade97e",
   "metadata": {},
   "outputs": [],
   "source": [
    "from tensorflow.keras.models import Sequential\n",
    "from tensorflow.keras.layers import Dense, Dropout, BatchNormalization\n",
    "\n",
    "# Create a Sequential model\n",
    "model = Sequential([\n",
    "    Dense(128, input_dim=X_train.shape[1], activation='relu'),\n",
    "    BatchNormalization(),\n",
    "    Dropout(0.5),\n",
    "    Dense(256, activation='relu'),\n",
    "    BatchNormalization(),\n",
    "    Dropout(0.5),\n",
    "    Dense(128, activation='relu'),\n",
    "    BatchNormalization(),\n",
    "    Dropout(0.5),\n",
    "    Dense(1, activation='sigmoid')\n",
    "])\n",
    "\n",
    "# Compile the model\n",
    "model.compile(optimizer='adam', \n",
    "              loss='binary_crossentropy', \n",
    "              metrics=['accuracy'])\n"
   ]
  },
  {
   "cell_type": "markdown",
   "id": "f20921d6",
   "metadata": {},
   "source": [
    "Build the Model"
   ]
  },
  {
   "cell_type": "code",
   "execution_count": 43,
   "id": "c8d0b74e",
   "metadata": {},
   "outputs": [],
   "source": [
    "from tensorflow.keras.models import Sequential\n",
    "from tensorflow.keras.layers import Dense\n",
    "\n",
    "model = Sequential([\n",
    "    Dense(32, input_dim=X_train.shape[1], activation='relu'),\n",
    "    Dense(64, activation='relu'),\n",
    "    Dense(1, activation='sigmoid')\n",
    "])\n",
    "\n",
    "model.compile(loss='binary_crossentropy', optimizer='adam', metrics=['accuracy'])\n"
   ]
  },
  {
   "cell_type": "markdown",
   "id": "0cad49cc",
   "metadata": {},
   "source": [
    "Train the Model"
   ]
  },
  {
   "cell_type": "code",
   "execution_count": 44,
   "id": "c500ff3e",
   "metadata": {},
   "outputs": [
    {
     "name": "stdout",
     "output_type": "stream",
     "text": [
      "Epoch 1/50\n",
      "716/716 [==============================] - 1s 975us/step - loss: 0.3458 - accuracy: 0.8649 - val_loss: 0.2997 - val_accuracy: 0.8904\n",
      "Epoch 2/50\n",
      "716/716 [==============================] - 1s 857us/step - loss: 0.2852 - accuracy: 0.8983 - val_loss: 0.2817 - val_accuracy: 0.8987\n",
      "Epoch 3/50\n",
      "716/716 [==============================] - 1s 906us/step - loss: 0.2675 - accuracy: 0.9071 - val_loss: 0.2669 - val_accuracy: 0.9049\n",
      "Epoch 4/50\n",
      "716/716 [==============================] - 1s 854us/step - loss: 0.2549 - accuracy: 0.9131 - val_loss: 0.2618 - val_accuracy: 0.9061\n",
      "Epoch 5/50\n",
      "716/716 [==============================] - 1s 834us/step - loss: 0.2460 - accuracy: 0.9167 - val_loss: 0.2613 - val_accuracy: 0.9054\n",
      "Epoch 6/50\n",
      "716/716 [==============================] - 1s 821us/step - loss: 0.2396 - accuracy: 0.9196 - val_loss: 0.2518 - val_accuracy: 0.9108\n",
      "Epoch 7/50\n",
      "716/716 [==============================] - 1s 837us/step - loss: 0.2355 - accuracy: 0.9196 - val_loss: 0.2503 - val_accuracy: 0.9115\n",
      "Epoch 8/50\n",
      "716/716 [==============================] - 1s 808us/step - loss: 0.2318 - accuracy: 0.9216 - val_loss: 0.2486 - val_accuracy: 0.9113\n",
      "Epoch 9/50\n",
      "716/716 [==============================] - 1s 816us/step - loss: 0.2284 - accuracy: 0.9230 - val_loss: 0.2477 - val_accuracy: 0.9115\n",
      "Epoch 10/50\n",
      "716/716 [==============================] - 1s 815us/step - loss: 0.2255 - accuracy: 0.9231 - val_loss: 0.2460 - val_accuracy: 0.9131\n",
      "Epoch 11/50\n",
      "716/716 [==============================] - 1s 828us/step - loss: 0.2232 - accuracy: 0.9241 - val_loss: 0.2488 - val_accuracy: 0.9148\n",
      "Epoch 12/50\n",
      "716/716 [==============================] - 1s 839us/step - loss: 0.2213 - accuracy: 0.9247 - val_loss: 0.2478 - val_accuracy: 0.9132\n",
      "Epoch 13/50\n",
      "716/716 [==============================] - 1s 870us/step - loss: 0.2187 - accuracy: 0.9251 - val_loss: 0.2443 - val_accuracy: 0.9153\n",
      "Epoch 14/50\n",
      "716/716 [==============================] - 1s 845us/step - loss: 0.2178 - accuracy: 0.9262 - val_loss: 0.2414 - val_accuracy: 0.9160\n",
      "Epoch 15/50\n",
      "716/716 [==============================] - 1s 857us/step - loss: 0.2157 - accuracy: 0.9270 - val_loss: 0.2401 - val_accuracy: 0.9148\n",
      "Epoch 16/50\n",
      "716/716 [==============================] - 1s 838us/step - loss: 0.2149 - accuracy: 0.9262 - val_loss: 0.2412 - val_accuracy: 0.9162\n",
      "Epoch 17/50\n",
      "716/716 [==============================] - 1s 861us/step - loss: 0.2133 - accuracy: 0.9278 - val_loss: 0.2418 - val_accuracy: 0.9172\n",
      "Epoch 18/50\n",
      "716/716 [==============================] - 1s 886us/step - loss: 0.2116 - accuracy: 0.9273 - val_loss: 0.2447 - val_accuracy: 0.9172\n",
      "Epoch 19/50\n",
      "716/716 [==============================] - 1s 874us/step - loss: 0.2107 - accuracy: 0.9292 - val_loss: 0.2419 - val_accuracy: 0.9160\n",
      "Epoch 20/50\n",
      "716/716 [==============================] - 1s 876us/step - loss: 0.2102 - accuracy: 0.9285 - val_loss: 0.2430 - val_accuracy: 0.9150\n",
      "Epoch 21/50\n",
      "716/716 [==============================] - 1s 861us/step - loss: 0.2089 - accuracy: 0.9280 - val_loss: 0.2397 - val_accuracy: 0.9176\n",
      "Epoch 22/50\n",
      "716/716 [==============================] - 1s 842us/step - loss: 0.2074 - accuracy: 0.9290 - val_loss: 0.2417 - val_accuracy: 0.9164\n",
      "Epoch 23/50\n",
      "716/716 [==============================] - 1s 893us/step - loss: 0.2068 - accuracy: 0.9293 - val_loss: 0.2411 - val_accuracy: 0.9160\n",
      "Epoch 24/50\n",
      "716/716 [==============================] - 1s 898us/step - loss: 0.2058 - accuracy: 0.9289 - val_loss: 0.2394 - val_accuracy: 0.9166\n",
      "Epoch 25/50\n",
      "716/716 [==============================] - 1s 885us/step - loss: 0.2051 - accuracy: 0.9306 - val_loss: 0.2461 - val_accuracy: 0.9145\n",
      "Epoch 26/50\n",
      "716/716 [==============================] - 1s 875us/step - loss: 0.2046 - accuracy: 0.9306 - val_loss: 0.2415 - val_accuracy: 0.9164\n",
      "Epoch 27/50\n",
      "716/716 [==============================] - 1s 847us/step - loss: 0.2043 - accuracy: 0.9307 - val_loss: 0.2377 - val_accuracy: 0.9192\n",
      "Epoch 28/50\n",
      "716/716 [==============================] - 1s 837us/step - loss: 0.2025 - accuracy: 0.9304 - val_loss: 0.2410 - val_accuracy: 0.9162\n",
      "Epoch 29/50\n",
      "716/716 [==============================] - 1s 934us/step - loss: 0.2025 - accuracy: 0.9307 - val_loss: 0.2446 - val_accuracy: 0.9179\n",
      "Epoch 30/50\n",
      "716/716 [==============================] - 1s 837us/step - loss: 0.2016 - accuracy: 0.9308 - val_loss: 0.2435 - val_accuracy: 0.9160\n",
      "Epoch 31/50\n",
      "716/716 [==============================] - 1s 800us/step - loss: 0.2001 - accuracy: 0.9322 - val_loss: 0.2523 - val_accuracy: 0.9150\n",
      "Epoch 32/50\n",
      "716/716 [==============================] - 1s 803us/step - loss: 0.1998 - accuracy: 0.9312 - val_loss: 0.2450 - val_accuracy: 0.9155\n",
      "Epoch 33/50\n",
      "716/716 [==============================] - 1s 809us/step - loss: 0.1989 - accuracy: 0.9320 - val_loss: 0.2449 - val_accuracy: 0.9162\n",
      "Epoch 34/50\n",
      "716/716 [==============================] - 1s 808us/step - loss: 0.1983 - accuracy: 0.9315 - val_loss: 0.2462 - val_accuracy: 0.9174\n",
      "Epoch 35/50\n",
      "716/716 [==============================] - 1s 808us/step - loss: 0.1983 - accuracy: 0.9323 - val_loss: 0.2435 - val_accuracy: 0.9185\n",
      "Epoch 36/50\n",
      "716/716 [==============================] - 1s 805us/step - loss: 0.1962 - accuracy: 0.9326 - val_loss: 0.2453 - val_accuracy: 0.9171\n",
      "Epoch 37/50\n",
      "716/716 [==============================] - 1s 805us/step - loss: 0.1971 - accuracy: 0.9316 - val_loss: 0.2472 - val_accuracy: 0.9172\n",
      "Epoch 38/50\n",
      "716/716 [==============================] - 1s 808us/step - loss: 0.1953 - accuracy: 0.9336 - val_loss: 0.2484 - val_accuracy: 0.9162\n",
      "Epoch 39/50\n",
      "716/716 [==============================] - 1s 803us/step - loss: 0.1948 - accuracy: 0.9332 - val_loss: 0.2508 - val_accuracy: 0.9150\n",
      "Epoch 40/50\n",
      "716/716 [==============================] - 1s 801us/step - loss: 0.1940 - accuracy: 0.9323 - val_loss: 0.2510 - val_accuracy: 0.9169\n",
      "Epoch 41/50\n",
      "716/716 [==============================] - 1s 804us/step - loss: 0.1937 - accuracy: 0.9337 - val_loss: 0.2551 - val_accuracy: 0.9174\n",
      "Epoch 42/50\n",
      "716/716 [==============================] - 1s 810us/step - loss: 0.1930 - accuracy: 0.9335 - val_loss: 0.2541 - val_accuracy: 0.9145\n",
      "Epoch 43/50\n",
      "716/716 [==============================] - 1s 806us/step - loss: 0.1926 - accuracy: 0.9335 - val_loss: 0.2527 - val_accuracy: 0.9179\n",
      "Epoch 44/50\n",
      "716/716 [==============================] - 1s 827us/step - loss: 0.1918 - accuracy: 0.9343 - val_loss: 0.2503 - val_accuracy: 0.9174\n",
      "Epoch 45/50\n",
      "716/716 [==============================] - 1s 853us/step - loss: 0.1913 - accuracy: 0.9348 - val_loss: 0.2533 - val_accuracy: 0.9141\n",
      "Epoch 46/50\n",
      "716/716 [==============================] - 1s 835us/step - loss: 0.1903 - accuracy: 0.9349 - val_loss: 0.2504 - val_accuracy: 0.9176\n",
      "Epoch 47/50\n",
      "716/716 [==============================] - 1s 899us/step - loss: 0.1896 - accuracy: 0.9355 - val_loss: 0.2535 - val_accuracy: 0.9157\n",
      "Epoch 48/50\n",
      "716/716 [==============================] - 1s 869us/step - loss: 0.1898 - accuracy: 0.9347 - val_loss: 0.2509 - val_accuracy: 0.9171\n",
      "Epoch 49/50\n",
      "716/716 [==============================] - 1s 900us/step - loss: 0.1889 - accuracy: 0.9347 - val_loss: 0.2517 - val_accuracy: 0.9167\n",
      "Epoch 50/50\n",
      "716/716 [==============================] - 1s 844us/step - loss: 0.1887 - accuracy: 0.9350 - val_loss: 0.2525 - val_accuracy: 0.9155\n"
     ]
    },
    {
     "data": {
      "text/plain": [
       "<keras.callbacks.History at 0x7ff0d1a496c0>"
      ]
     },
     "execution_count": 44,
     "metadata": {},
     "output_type": "execute_result"
    }
   ],
   "source": [
    "model.fit(X_train, y_train, epochs=50, batch_size=32, validation_data=(X_test, y_test))\n"
   ]
  },
  {
   "cell_type": "markdown",
   "id": "f5069fa9",
   "metadata": {},
   "source": [
    "Evaluate the Model"
   ]
  },
  {
   "cell_type": "code",
   "execution_count": 45,
   "id": "85b71d60",
   "metadata": {
    "scrolled": true
   },
   "outputs": [
    {
     "name": "stdout",
     "output_type": "stream",
     "text": [
      "179/179 [==============================] - 0s 497us/step - loss: 0.2525 - accuracy: 0.9155\n",
      "Accuracy: 91.55%\n"
     ]
    }
   ],
   "source": [
    "loss, accuracy = model.evaluate(X_test, y_test)\n",
    "print(f\"Accuracy: {accuracy*100:.2f}%\")"
   ]
  },
  {
   "cell_type": "markdown",
   "id": "7af38679",
   "metadata": {},
   "source": [
    "Confusion Matrix and Classification Report"
   ]
  },
  {
   "cell_type": "code",
   "execution_count": 46,
   "id": "11cfac52",
   "metadata": {},
   "outputs": [
    {
     "name": "stdout",
     "output_type": "stream",
     "text": [
      "179/179 [==============================] - 0s 451us/step\n",
      "Confusion Matrix:\n",
      "[[4356   87]\n",
      " [ 397  888]]\n",
      "\n",
      "Classification Report:\n",
      "              precision    recall  f1-score   support\n",
      "\n",
      "           0       0.92      0.98      0.95      4443\n",
      "           1       0.91      0.69      0.79      1285\n",
      "\n",
      "    accuracy                           0.92      5728\n",
      "   macro avg       0.91      0.84      0.87      5728\n",
      "weighted avg       0.92      0.92      0.91      5728\n",
      "\n"
     ]
    }
   ],
   "source": [
    "from sklearn.metrics import confusion_matrix, classification_report\n",
    "import numpy as np\n",
    "\n",
    "# Predicting the Test set results\n",
    "y_pred = model.predict(X_test)\n",
    "y_pred = (y_pred > 0.5)  # convert probabilities to binary output\n",
    "\n",
    "# Making the Confusion Matrix\n",
    "cm = confusion_matrix(y_test, y_pred)\n",
    "print(\"Confusion Matrix:\")\n",
    "print(cm)\n",
    "\n",
    "# Classification Report\n",
    "cr = classification_report(y_test, y_pred)\n",
    "print(\"\\nClassification Report:\")\n",
    "print(cr)\n"
   ]
  },
  {
   "cell_type": "markdown",
   "id": "c55f7f92",
   "metadata": {},
   "source": [
    "Feature Engineering"
   ]
  },
  {
   "cell_type": "code",
   "execution_count": 47,
   "id": "a5ead78e",
   "metadata": {},
   "outputs": [],
   "source": [
    "from sklearn.preprocessing import PolynomialFeatures\n",
    "\n",
    "# Create polynomial features\n",
    "poly = PolynomialFeatures(degree=2, include_bias=False)\n",
    "X_train_poly = poly.fit_transform(X_train)\n",
    "X_test_poly = poly.transform(X_test)\n"
   ]
  },
  {
   "cell_type": "markdown",
   "id": "9a6aa0d6",
   "metadata": {},
   "source": [
    "Ensemble Modeling"
   ]
  },
  {
   "cell_type": "code",
   "execution_count": 49,
   "id": "c6edbf5b",
   "metadata": {},
   "outputs": [
    {
     "name": "stdout",
     "output_type": "stream",
     "text": [
      "Random Forest Model Accuracy: 93.52%\n"
     ]
    }
   ],
   "source": [
    "from sklearn.ensemble import RandomForestClassifier\n",
    "from sklearn.metrics import accuracy_score\n",
    "\n",
    "# Initialize the Random Forest model\n",
    "rf_model = RandomForestClassifier(random_state=42)\n",
    "rf_model.fit(X_train_poly, y_train)\n",
    "\n",
    "# Predictions and Evaluation\n",
    "rf_predictions = rf_model.predict(X_test_poly)\n",
    "rf_accuracy = accuracy_score(y_test, rf_predictions)\n",
    "print(f\"Random Forest Model Accuracy: {rf_accuracy*100:.2f}%\")\n"
   ]
  },
  {
   "cell_type": "code",
   "execution_count": 57,
   "id": "e9b7f4fc",
   "metadata": {},
   "outputs": [
    {
     "name": "stdout",
     "output_type": "stream",
     "text": [
      "\n",
      "Confusion Matrix:\n",
      "[[4419   24]\n",
      " [ 347  938]]\n",
      "\n",
      "Classification Report:\n",
      "              precision    recall  f1-score   support\n",
      "\n",
      "           0       0.93      0.99      0.96      4443\n",
      "           1       0.98      0.73      0.83      1285\n",
      "\n",
      "    accuracy                           0.94      5728\n",
      "   macro avg       0.95      0.86      0.90      5728\n",
      "weighted avg       0.94      0.94      0.93      5728\n",
      "\n"
     ]
    }
   ],
   "source": [
    "# Confusion Matrix\n",
    "conf_matrix = confusion_matrix(y_test, rf_predictions)\n",
    "print(\"\\nConfusion Matrix:\")\n",
    "print(conf_matrix)\n",
    "\n",
    "# Classification Report\n",
    "class_report = classification_report(y_test, rf_predictions)\n",
    "print(\"\\nClassification Report:\")\n",
    "print(class_report)"
   ]
  },
  {
   "cell_type": "code",
   "execution_count": 58,
   "id": "b2903026",
   "metadata": {},
   "outputs": [
    {
     "name": "stdout",
     "output_type": "stream",
     "text": [
      "Requirement already satisfied: shap in /Users/nafiskhan/anaconda3/lib/python3.10/site-packages (0.42.1)\n",
      "Requirement already satisfied: cloudpickle in /Users/nafiskhan/anaconda3/lib/python3.10/site-packages (from shap) (2.0.0)\n",
      "Requirement already satisfied: pandas in /Users/nafiskhan/anaconda3/lib/python3.10/site-packages (from shap) (1.5.3)\n",
      "Requirement already satisfied: packaging>20.9 in /Users/nafiskhan/anaconda3/lib/python3.10/site-packages (from shap) (23.1)\n",
      "Requirement already satisfied: slicer==0.0.7 in /Users/nafiskhan/anaconda3/lib/python3.10/site-packages (from shap) (0.0.7)\n",
      "Requirement already satisfied: numpy in /Users/nafiskhan/anaconda3/lib/python3.10/site-packages (from shap) (1.24.3)\n",
      "Requirement already satisfied: scikit-learn in /Users/nafiskhan/anaconda3/lib/python3.10/site-packages (from shap) (1.2.1)\n",
      "Requirement already satisfied: tqdm>=4.27.0 in /Users/nafiskhan/anaconda3/lib/python3.10/site-packages (from shap) (4.64.1)\n",
      "Requirement already satisfied: scipy in /Users/nafiskhan/anaconda3/lib/python3.10/site-packages (from shap) (1.11.1)\n",
      "Requirement already satisfied: numba in /Users/nafiskhan/anaconda3/lib/python3.10/site-packages (from shap) (0.57.0)\n",
      "Requirement already satisfied: llvmlite<0.41,>=0.40.0dev0 in /Users/nafiskhan/anaconda3/lib/python3.10/site-packages (from numba->shap) (0.40.0)\n",
      "Requirement already satisfied: python-dateutil>=2.8.1 in /Users/nafiskhan/anaconda3/lib/python3.10/site-packages (from pandas->shap) (2.8.2)\n",
      "Requirement already satisfied: pytz>=2020.1 in /Users/nafiskhan/anaconda3/lib/python3.10/site-packages (from pandas->shap) (2022.7)\n",
      "Requirement already satisfied: joblib>=1.1.1 in /Users/nafiskhan/anaconda3/lib/python3.10/site-packages (from scikit-learn->shap) (1.1.1)\n",
      "Requirement already satisfied: threadpoolctl>=2.0.0 in /Users/nafiskhan/anaconda3/lib/python3.10/site-packages (from scikit-learn->shap) (2.2.0)\n",
      "Requirement already satisfied: six>=1.5 in /Users/nafiskhan/anaconda3/lib/python3.10/site-packages (from python-dateutil>=2.8.1->pandas->shap) (1.16.0)\n",
      "Note: you may need to restart the kernel to use updated packages.\n"
     ]
    }
   ],
   "source": [
    "pip install shap"
   ]
  },
  {
   "cell_type": "code",
   "execution_count": null,
   "id": "f613cdd0",
   "metadata": {},
   "outputs": [
    {
     "name": "stderr",
     "output_type": "stream",
     "text": [
      "Using `tqdm.autonotebook.tqdm` in notebook mode. Use `tqdm.tqdm` instead to force console mode (e.g. in jupyter console)\n"
     ]
    }
   ],
   "source": [
    "import shap  # Make sure to install shap if you haven't already\n",
    "from sklearn.model_selection import train_test_split\n",
    "from sklearn.preprocessing import PolynomialFeatures\n",
    "from sklearn.ensemble import RandomForestClassifier\n",
    "from sklearn.metrics import accuracy_score, confusion_matrix, classification_report\n",
    "\n",
    "# ... (the rest of your data loading and preprocessing code)\n",
    "\n",
    "# Training the model and making predictions\n",
    "rf_model.fit(X_train_poly, y_train)\n",
    "rf_predictions = rf_model.predict(X_test_poly)\n",
    "\n",
    "# Print accuracy\n",
    "print(f\"Accuracy: {accuracy_score(y_test, rf_predictions)*100:.2f}%\")\n",
    "\n",
    "# Print confusion matrix\n",
    "conf_matrix = confusion_matrix(y_test, rf_predictions)\n",
    "print(\"\\nConfusion Matrix:\")\n",
    "print(conf_matrix)\n",
    "\n",
    "# Compute and plot SHAP values\n",
    "explainer = shap.TreeExplainer(rf_model)\n",
    "shap_values = explainer.shap_values(X_test_poly)\n",
    "\n",
    "# Plot summary_plot\n",
    "shap.summary_plot(shap_values, X_test_poly, plot_type=\"bar\")\n",
    "\n",
    "# Print classification report\n",
    "print(\"\\nClassification Report:\")\n",
    "print(classification_report(y_test, rf_predictions))\n"
   ]
  },
  {
   "cell_type": "code",
   "execution_count": null,
   "id": "733748b2",
   "metadata": {},
   "outputs": [],
   "source": []
  }
 ],
 "metadata": {
  "kernelspec": {
   "display_name": "Python 3 (ipykernel)",
   "language": "python",
   "name": "python3"
  },
  "language_info": {
   "codemirror_mode": {
    "name": "ipython",
    "version": 3
   },
   "file_extension": ".py",
   "mimetype": "text/x-python",
   "name": "python",
   "nbconvert_exporter": "python",
   "pygments_lexer": "ipython3",
   "version": "3.10.9"
  }
 },
 "nbformat": 4,
 "nbformat_minor": 5
}
