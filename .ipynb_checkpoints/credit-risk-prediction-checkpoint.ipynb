{
 "cells": [
  {
   "cell_type": "markdown",
   "id": "4675e949",
   "metadata": {},
   "source": [
    "Import Necessary Libraries\n"
   ]
  },
  {
   "cell_type": "code",
   "execution_count": 14,
   "id": "73c65144",
   "metadata": {},
   "outputs": [],
   "source": [
    "import pandas as pd\n",
    "import numpy as np\n",
    "from sklearn.model_selection import train_test_split, GridSearchCV  # Ensure this line is present and correct\n",
    "from sklearn.svm import SVC\n",
    "from sklearn.metrics import classification_report, confusion_matrix\n"
   ]
  },
  {
   "cell_type": "markdown",
   "id": "efd233d5",
   "metadata": {},
   "source": [
    "Load the Dataset"
   ]
  },
  {
   "cell_type": "code",
   "execution_count": 2,
   "id": "46a0a0ed",
   "metadata": {},
   "outputs": [],
   "source": [
    "df = pd.read_csv('credit_risk_dataset.csv')\n"
   ]
  },
  {
   "cell_type": "markdown",
   "id": "9bec0433",
   "metadata": {},
   "source": [
    "Explore the Dataset"
   ]
  },
  {
   "cell_type": "code",
   "execution_count": 3,
   "id": "032295fa",
   "metadata": {},
   "outputs": [
    {
     "name": "stdout",
     "output_type": "stream",
     "text": [
      "   person_age  person_income person_home_ownership  person_emp_length  \\\n",
      "0          22          59000                  RENT              123.0   \n",
      "1          21           9600                   OWN                5.0   \n",
      "2          25           9600              MORTGAGE                1.0   \n",
      "3          23          65500                  RENT                4.0   \n",
      "4          24          54400                  RENT                8.0   \n",
      "\n",
      "  loan_intent loan_grade  loan_amnt  loan_int_rate  loan_status  \\\n",
      "0    PERSONAL          D      35000          16.02            1   \n",
      "1   EDUCATION          B       1000          11.14            0   \n",
      "2     MEDICAL          C       5500          12.87            1   \n",
      "3     MEDICAL          C      35000          15.23            1   \n",
      "4     MEDICAL          C      35000          14.27            1   \n",
      "\n",
      "   loan_percent_income cb_person_default_on_file  cb_person_cred_hist_length  \n",
      "0                 0.59                         Y                           3  \n",
      "1                 0.10                         N                           2  \n",
      "2                 0.57                         N                           3  \n",
      "3                 0.53                         N                           2  \n",
      "4                 0.55                         Y                           4  \n"
     ]
    }
   ],
   "source": [
    "print(df.head())\n"
   ]
  },
  {
   "cell_type": "markdown",
   "id": "61dc12a8",
   "metadata": {},
   "source": [
    "Handle Missing Values"
   ]
  },
  {
   "cell_type": "code",
   "execution_count": 4,
   "id": "3d7370b7",
   "metadata": {},
   "outputs": [
    {
     "name": "stdout",
     "output_type": "stream",
     "text": [
      "person_age                       0\n",
      "person_income                    0\n",
      "person_home_ownership            0\n",
      "person_emp_length              895\n",
      "loan_intent                      0\n",
      "loan_grade                       0\n",
      "loan_amnt                        0\n",
      "loan_int_rate                 3116\n",
      "loan_status                      0\n",
      "loan_percent_income              0\n",
      "cb_person_default_on_file        0\n",
      "cb_person_cred_hist_length       0\n",
      "dtype: int64\n"
     ]
    }
   ],
   "source": [
    "print(df.isnull().sum())  # Check for missing values\n",
    "df = df.dropna()  # Drop missing values or use imputation as appropriate\n"
   ]
  },
  {
   "cell_type": "markdown",
   "id": "064470e2",
   "metadata": {},
   "source": [
    "Encode Categorical Features"
   ]
  },
  {
   "cell_type": "code",
   "execution_count": 5,
   "id": "ec2d899d",
   "metadata": {},
   "outputs": [],
   "source": [
    "df = pd.get_dummies(df, columns=['person_home_ownership', 'loan_intent', 'loan_grade'], drop_first=True)\n"
   ]
  },
  {
   "cell_type": "code",
   "execution_count": 6,
   "id": "6e6a40c4",
   "metadata": {},
   "outputs": [],
   "source": [
    "df['cb_person_default_on_file'] = df['cb_person_default_on_file'].map({'Y': 1, 'N': 0})\n"
   ]
  },
  {
   "cell_type": "code",
   "execution_count": 7,
   "id": "0ad81da1",
   "metadata": {},
   "outputs": [
    {
     "name": "stdout",
     "output_type": "stream",
     "text": [
      "[1 0]\n"
     ]
    }
   ],
   "source": [
    "print(df['cb_person_default_on_file'].unique())  # It should print [1 0]\n"
   ]
  },
  {
   "cell_type": "markdown",
   "id": "86804988",
   "metadata": {},
   "source": [
    "Split Data"
   ]
  },
  {
   "cell_type": "code",
   "execution_count": 8,
   "id": "fbff6753",
   "metadata": {},
   "outputs": [],
   "source": [
    "from sklearn.model_selection import train_test_split\n",
    "\n",
    "X = df.drop('loan_status', axis=1)\n",
    "y = df['loan_status']\n",
    "\n",
    "X_train, X_test, y_train, y_test = train_test_split(X, y, test_size=0.2, random_state=42)\n"
   ]
  },
  {
   "cell_type": "code",
   "execution_count": 16,
   "id": "85982f28",
   "metadata": {},
   "outputs": [
    {
     "name": "stdout",
     "output_type": "stream",
     "text": [
      "Fitting 5 folds for each of 10 candidates, totalling 50 fits\n",
      "Intel MKL WARNING: Support of Intel(R) Streaming SIMD Extensions 4.2 (Intel(R) SSE4.2) enabled only processors has been deprecated. Intel oneAPI Math Kernel Library 2025.0 will require Intel(R) Advanced Vector Extensions (Intel(R) AVX) instructions.\n",
      "Intel MKL WARNING: Support of Intel(R) Streaming SIMD Extensions 4.2 (Intel(R) SSE4.2) enabled only processors has been deprecated. Intel oneAPI Math Kernel Library 2025.0 will require Intel(R) Advanced Vector Extensions (Intel(R) AVX) instructions.\n",
      "Intel MKL WARNING: Support of Intel(R) Streaming SIMD Extensions 4.2 (Intel(R) SSE4.2) enabled only processors has been deprecated. Intel oneAPI Math Kernel Library 2025.0 will require Intel(R) Advanced Vector Extensions (Intel(R) AVX) instructions.\n",
      "Intel MKL WARNING: Support of Intel(R) Streaming SIMD Extensions 4.2 (Intel(R) SSE4.2) enabled only processors has been deprecated. Intel oneAPI Math Kernel Library 2025.0 will require Intel(R) Advanced Vector Extensions (Intel(R) AVX) instructions.\n",
      "Intel MKL WARNING: Support of Intel(R) Streaming SIMD Extensions 4.2 (Intel(R) SSE4.2) enabled only processors has been deprecated. Intel oneAPI Math Kernel Library 2025.0 will require Intel(R) Advanced Vector Extensions (Intel(R) AVX) instructions.\n",
      "Intel MKL WARNING: Support of Intel(R) Streaming SIMD Extensions 4.2 (Intel(R) SSE4.2) enabled only processors has been deprecated. Intel oneAPI Math Kernel Library 2025.0 will require Intel(R) Advanced Vector Extensions (Intel(R) AVX) instructions.\n",
      "Intel MKL WARNING: Support of Intel(R) Streaming SIMD Extensions 4.2 (Intel(R) SSE4.2) enabled only processors has been deprecated. Intel oneAPI Math Kernel Library 2025.0 will require Intel(R) Advanced Vector Extensions (Intel(R) AVX) instructions.\n",
      "Intel MKL WARNING: Support of Intel(R) Streaming SIMD Extensions 4.2 (Intel(R) SSE4.2) enabled only processors has been deprecated. Intel oneAPI Math Kernel Library 2025.0 will require Intel(R) Advanced Vector Extensions (Intel(R) AVX) instructions.\n",
      "[CV] END ......................C=0.1, gamma=0.01, kernel=rbf; total time=  38.6s\n",
      "[CV] END .....................C=0.1, gamma=0.001, kernel=rbf; total time=  35.1s\n",
      "[CV] END ......................C=1.0, gamma=10.0, kernel=rbf; total time= 1.0min\n",
      "[CV] END .....................C=1.0, gamma=0.001, kernel=rbf; total time=  43.0s\n",
      "[CV] END ....................C=100.0, gamma=0.01, kernel=rbf; total time=  53.6s\n",
      "[CV] END ......................C=0.01, gamma=1.0, kernel=rbf; total time=  27.5s\n",
      "[CV] END ...................C=0.001, gamma=0.001, kernel=rbf; total time=  17.4s\n",
      "[CV] END ...................C=0.001, gamma=0.001, kernel=rbf; total time=  15.3s\n",
      "[CV] END .....................C=0.1, gamma=0.001, kernel=rbf; total time=  32.0s\n",
      "[CV] END ......................C=0.1, gamma=10.0, kernel=rbf; total time=  52.3s\n",
      "[CV] END .....................C=1.0, gamma=0.001, kernel=rbf; total time=  41.6s\n",
      "[CV] END ......................C=0.01, gamma=0.1, kernel=rbf; total time=  36.7s\n",
      "[CV] END ......................C=0.01, gamma=1.0, kernel=rbf; total time=  35.2s\n",
      "[CV] END ......................C=0.01, gamma=1.0, kernel=rbf; total time=  29.3s\n"
     ]
    },
    {
     "data": {
      "text/html": [
       "<style>#sk-container-id-1 {color: black;background-color: white;}#sk-container-id-1 pre{padding: 0;}#sk-container-id-1 div.sk-toggleable {background-color: white;}#sk-container-id-1 label.sk-toggleable__label {cursor: pointer;display: block;width: 100%;margin-bottom: 0;padding: 0.3em;box-sizing: border-box;text-align: center;}#sk-container-id-1 label.sk-toggleable__label-arrow:before {content: \"▸\";float: left;margin-right: 0.25em;color: #696969;}#sk-container-id-1 label.sk-toggleable__label-arrow:hover:before {color: black;}#sk-container-id-1 div.sk-estimator:hover label.sk-toggleable__label-arrow:before {color: black;}#sk-container-id-1 div.sk-toggleable__content {max-height: 0;max-width: 0;overflow: hidden;text-align: left;background-color: #f0f8ff;}#sk-container-id-1 div.sk-toggleable__content pre {margin: 0.2em;color: black;border-radius: 0.25em;background-color: #f0f8ff;}#sk-container-id-1 input.sk-toggleable__control:checked~div.sk-toggleable__content {max-height: 200px;max-width: 100%;overflow: auto;}#sk-container-id-1 input.sk-toggleable__control:checked~label.sk-toggleable__label-arrow:before {content: \"▾\";}#sk-container-id-1 div.sk-estimator input.sk-toggleable__control:checked~label.sk-toggleable__label {background-color: #d4ebff;}#sk-container-id-1 div.sk-label input.sk-toggleable__control:checked~label.sk-toggleable__label {background-color: #d4ebff;}#sk-container-id-1 input.sk-hidden--visually {border: 0;clip: rect(1px 1px 1px 1px);clip: rect(1px, 1px, 1px, 1px);height: 1px;margin: -1px;overflow: hidden;padding: 0;position: absolute;width: 1px;}#sk-container-id-1 div.sk-estimator {font-family: monospace;background-color: #f0f8ff;border: 1px dotted black;border-radius: 0.25em;box-sizing: border-box;margin-bottom: 0.5em;}#sk-container-id-1 div.sk-estimator:hover {background-color: #d4ebff;}#sk-container-id-1 div.sk-parallel-item::after {content: \"\";width: 100%;border-bottom: 1px solid gray;flex-grow: 1;}#sk-container-id-1 div.sk-label:hover label.sk-toggleable__label {background-color: #d4ebff;}#sk-container-id-1 div.sk-serial::before {content: \"\";position: absolute;border-left: 1px solid gray;box-sizing: border-box;top: 0;bottom: 0;left: 50%;z-index: 0;}#sk-container-id-1 div.sk-serial {display: flex;flex-direction: column;align-items: center;background-color: white;padding-right: 0.2em;padding-left: 0.2em;position: relative;}#sk-container-id-1 div.sk-item {position: relative;z-index: 1;}#sk-container-id-1 div.sk-parallel {display: flex;align-items: stretch;justify-content: center;background-color: white;position: relative;}#sk-container-id-1 div.sk-item::before, #sk-container-id-1 div.sk-parallel-item::before {content: \"\";position: absolute;border-left: 1px solid gray;box-sizing: border-box;top: 0;bottom: 0;left: 50%;z-index: -1;}#sk-container-id-1 div.sk-parallel-item {display: flex;flex-direction: column;z-index: 1;position: relative;background-color: white;}#sk-container-id-1 div.sk-parallel-item:first-child::after {align-self: flex-end;width: 50%;}#sk-container-id-1 div.sk-parallel-item:last-child::after {align-self: flex-start;width: 50%;}#sk-container-id-1 div.sk-parallel-item:only-child::after {width: 0;}#sk-container-id-1 div.sk-dashed-wrapped {border: 1px dashed gray;margin: 0 0.4em 0.5em 0.4em;box-sizing: border-box;padding-bottom: 0.4em;background-color: white;}#sk-container-id-1 div.sk-label label {font-family: monospace;font-weight: bold;display: inline-block;line-height: 1.2em;}#sk-container-id-1 div.sk-label-container {text-align: center;}#sk-container-id-1 div.sk-container {/* jupyter's `normalize.less` sets `[hidden] { display: none; }` but bootstrap.min.css set `[hidden] { display: none !important; }` so we also need the `!important` here to be able to override the default hidden behavior on the sphinx rendered scikit-learn.org. See: https://github.com/scikit-learn/scikit-learn/issues/21755 */display: inline-block !important;position: relative;}#sk-container-id-1 div.sk-text-repr-fallback {display: none;}</style><div id=\"sk-container-id-1\" class=\"sk-top-container\"><div class=\"sk-text-repr-fallback\"><pre>RandomizedSearchCV(cv=5, estimator=SVC(), n_jobs=-1,\n",
       "                   param_distributions={&#x27;C&#x27;: array([1.e-03, 1.e-02, 1.e-01, 1.e+00, 1.e+01, 1.e+02]),\n",
       "                                        &#x27;gamma&#x27;: array([1.e-03, 1.e-02, 1.e-01, 1.e+00, 1.e+01, 1.e+02]),\n",
       "                                        &#x27;kernel&#x27;: [&#x27;rbf&#x27;]},\n",
       "                   verbose=2)</pre><b>In a Jupyter environment, please rerun this cell to show the HTML representation or trust the notebook. <br />On GitHub, the HTML representation is unable to render, please try loading this page with nbviewer.org.</b></div><div class=\"sk-container\" hidden><div class=\"sk-item sk-dashed-wrapped\"><div class=\"sk-label-container\"><div class=\"sk-label sk-toggleable\"><input class=\"sk-toggleable__control sk-hidden--visually\" id=\"sk-estimator-id-1\" type=\"checkbox\" ><label for=\"sk-estimator-id-1\" class=\"sk-toggleable__label sk-toggleable__label-arrow\">RandomizedSearchCV</label><div class=\"sk-toggleable__content\"><pre>RandomizedSearchCV(cv=5, estimator=SVC(), n_jobs=-1,\n",
       "                   param_distributions={&#x27;C&#x27;: array([1.e-03, 1.e-02, 1.e-01, 1.e+00, 1.e+01, 1.e+02]),\n",
       "                                        &#x27;gamma&#x27;: array([1.e-03, 1.e-02, 1.e-01, 1.e+00, 1.e+01, 1.e+02]),\n",
       "                                        &#x27;kernel&#x27;: [&#x27;rbf&#x27;]},\n",
       "                   verbose=2)</pre></div></div></div><div class=\"sk-parallel\"><div class=\"sk-parallel-item\"><div class=\"sk-item\"><div class=\"sk-label-container\"><div class=\"sk-label sk-toggleable\"><input class=\"sk-toggleable__control sk-hidden--visually\" id=\"sk-estimator-id-2\" type=\"checkbox\" ><label for=\"sk-estimator-id-2\" class=\"sk-toggleable__label sk-toggleable__label-arrow\">estimator: SVC</label><div class=\"sk-toggleable__content\"><pre>SVC()</pre></div></div></div><div class=\"sk-serial\"><div class=\"sk-item\"><div class=\"sk-estimator sk-toggleable\"><input class=\"sk-toggleable__control sk-hidden--visually\" id=\"sk-estimator-id-3\" type=\"checkbox\" ><label for=\"sk-estimator-id-3\" class=\"sk-toggleable__label sk-toggleable__label-arrow\">SVC</label><div class=\"sk-toggleable__content\"><pre>SVC()</pre></div></div></div></div></div></div></div></div></div></div>"
      ],
      "text/plain": [
       "RandomizedSearchCV(cv=5, estimator=SVC(), n_jobs=-1,\n",
       "                   param_distributions={'C': array([1.e-03, 1.e-02, 1.e-01, 1.e+00, 1.e+01, 1.e+02]),\n",
       "                                        'gamma': array([1.e-03, 1.e-02, 1.e-01, 1.e+00, 1.e+01, 1.e+02]),\n",
       "                                        'kernel': ['rbf']},\n",
       "                   verbose=2)"
      ]
     },
     "execution_count": 16,
     "metadata": {},
     "output_type": "execute_result"
    }
   ],
   "source": [
    "from sklearn.model_selection import RandomizedSearchCV\n",
    "from sklearn.svm import SVC\n",
    "import numpy as np\n",
    "\n",
    "param_dist = {'C': np.logspace(-3, 2, 6), 'gamma': np.logspace(-3, 2, 6), 'kernel': ['rbf']}\n",
    "\n",
    "# Using fewer iterations and all CPU cores\n",
    "random_search = RandomizedSearchCV(SVC(), param_distributions=param_dist, n_iter=10, cv=5, verbose=2, n_jobs=-1)\n",
    "random_search.fit(X_train, y_train)\n"
   ]
  },
  {
   "cell_type": "markdown",
   "id": "ca9aebb7",
   "metadata": {},
   "source": [
    "Normalize Data"
   ]
  },
  {
   "cell_type": "code",
   "execution_count": 19,
   "id": "af187e68",
   "metadata": {},
   "outputs": [],
   "source": [
    "from sklearn.preprocessing import StandardScaler\n",
    "\n",
    "scaler = StandardScaler()\n",
    "X_train = scaler.fit_transform(X_train)\n",
    "X_test = scaler.transform(X_test)\n"
   ]
  },
  {
   "cell_type": "code",
   "execution_count": 20,
   "id": "0eade97e",
   "metadata": {},
   "outputs": [],
   "source": [
    "from tensorflow.keras.models import Sequential\n",
    "from tensorflow.keras.layers import Dense, Dropout, BatchNormalization\n",
    "\n",
    "# Create a Sequential model\n",
    "model = Sequential([\n",
    "    Dense(128, input_dim=X_train.shape[1], activation='relu'),\n",
    "    BatchNormalization(),\n",
    "    Dropout(0.5),\n",
    "    Dense(256, activation='relu'),\n",
    "    BatchNormalization(),\n",
    "    Dropout(0.5),\n",
    "    Dense(128, activation='relu'),\n",
    "    BatchNormalization(),\n",
    "    Dropout(0.5),\n",
    "    Dense(1, activation='sigmoid')\n",
    "])\n",
    "\n",
    "# Compile the model\n",
    "model.compile(optimizer='adam', \n",
    "              loss='binary_crossentropy', \n",
    "              metrics=['accuracy'])\n"
   ]
  },
  {
   "cell_type": "markdown",
   "id": "f20921d6",
   "metadata": {},
   "source": [
    "Build the Model"
   ]
  },
  {
   "cell_type": "code",
   "execution_count": 21,
   "id": "c8d0b74e",
   "metadata": {},
   "outputs": [],
   "source": [
    "from tensorflow.keras.models import Sequential\n",
    "from tensorflow.keras.layers import Dense\n",
    "\n",
    "model = Sequential([\n",
    "    Dense(32, input_dim=X_train.shape[1], activation='relu'),\n",
    "    Dense(64, activation='relu'),\n",
    "    Dense(1, activation='sigmoid')\n",
    "])\n",
    "\n",
    "model.compile(loss='binary_crossentropy', optimizer='adam', metrics=['accuracy'])\n"
   ]
  },
  {
   "cell_type": "markdown",
   "id": "0cad49cc",
   "metadata": {},
   "source": [
    "Train the Model"
   ]
  },
  {
   "cell_type": "code",
   "execution_count": 22,
   "id": "c500ff3e",
   "metadata": {},
   "outputs": [
    {
     "name": "stdout",
     "output_type": "stream",
     "text": [
      "Epoch 1/50\n",
      "716/716 [==============================] - 1s 918us/step - loss: 0.3401 - accuracy: 0.8718 - val_loss: 0.2974 - val_accuracy: 0.8895\n",
      "Epoch 2/50\n",
      "716/716 [==============================] - 1s 780us/step - loss: 0.2810 - accuracy: 0.9016 - val_loss: 0.2886 - val_accuracy: 0.8987\n",
      "Epoch 3/50\n",
      "716/716 [==============================] - 1s 789us/step - loss: 0.2627 - accuracy: 0.9099 - val_loss: 0.2697 - val_accuracy: 0.9019\n",
      "Epoch 4/50\n",
      "716/716 [==============================] - 1s 835us/step - loss: 0.2533 - accuracy: 0.9141 - val_loss: 0.2592 - val_accuracy: 0.9076\n",
      "Epoch 5/50\n",
      "716/716 [==============================] - 1s 790us/step - loss: 0.2467 - accuracy: 0.9165 - val_loss: 0.2559 - val_accuracy: 0.9092\n",
      "Epoch 6/50\n",
      "716/716 [==============================] - 1s 762us/step - loss: 0.2408 - accuracy: 0.9181 - val_loss: 0.2535 - val_accuracy: 0.9104\n",
      "Epoch 7/50\n",
      "716/716 [==============================] - 1s 768us/step - loss: 0.2360 - accuracy: 0.9203 - val_loss: 0.2484 - val_accuracy: 0.9129\n",
      "Epoch 8/50\n",
      "716/716 [==============================] - 1s 780us/step - loss: 0.2342 - accuracy: 0.9208 - val_loss: 0.2480 - val_accuracy: 0.9139\n",
      "Epoch 9/50\n",
      "716/716 [==============================] - 1s 767us/step - loss: 0.2305 - accuracy: 0.9213 - val_loss: 0.2449 - val_accuracy: 0.9157\n",
      "Epoch 10/50\n",
      "716/716 [==============================] - 1s 761us/step - loss: 0.2279 - accuracy: 0.9227 - val_loss: 0.2429 - val_accuracy: 0.9153\n",
      "Epoch 11/50\n",
      "716/716 [==============================] - 1s 762us/step - loss: 0.2255 - accuracy: 0.9243 - val_loss: 0.2442 - val_accuracy: 0.9118\n",
      "Epoch 12/50\n",
      "716/716 [==============================] - 1s 764us/step - loss: 0.2229 - accuracy: 0.9246 - val_loss: 0.2406 - val_accuracy: 0.9169\n",
      "Epoch 13/50\n",
      "716/716 [==============================] - 1s 776us/step - loss: 0.2216 - accuracy: 0.9252 - val_loss: 0.2409 - val_accuracy: 0.9188\n",
      "Epoch 14/50\n",
      "716/716 [==============================] - 1s 794us/step - loss: 0.2203 - accuracy: 0.9252 - val_loss: 0.2423 - val_accuracy: 0.9157\n",
      "Epoch 15/50\n",
      "716/716 [==============================] - 1s 779us/step - loss: 0.2183 - accuracy: 0.9259 - val_loss: 0.2393 - val_accuracy: 0.9152\n",
      "Epoch 16/50\n",
      "716/716 [==============================] - 1s 770us/step - loss: 0.2171 - accuracy: 0.9261 - val_loss: 0.2421 - val_accuracy: 0.9171\n",
      "Epoch 17/50\n",
      "716/716 [==============================] - 1s 766us/step - loss: 0.2155 - accuracy: 0.9263 - val_loss: 0.2366 - val_accuracy: 0.9176\n",
      "Epoch 18/50\n",
      "716/716 [==============================] - 1s 784us/step - loss: 0.2141 - accuracy: 0.9277 - val_loss: 0.2376 - val_accuracy: 0.9172\n",
      "Epoch 19/50\n",
      "716/716 [==============================] - 1s 790us/step - loss: 0.2123 - accuracy: 0.9274 - val_loss: 0.2412 - val_accuracy: 0.9167\n",
      "Epoch 20/50\n",
      "716/716 [==============================] - 1s 782us/step - loss: 0.2118 - accuracy: 0.9278 - val_loss: 0.2436 - val_accuracy: 0.9145\n",
      "Epoch 21/50\n",
      "716/716 [==============================] - 1s 773us/step - loss: 0.2113 - accuracy: 0.9282 - val_loss: 0.2376 - val_accuracy: 0.9178\n",
      "Epoch 22/50\n",
      "716/716 [==============================] - 1s 778us/step - loss: 0.2101 - accuracy: 0.9286 - val_loss: 0.2420 - val_accuracy: 0.9174\n",
      "Epoch 23/50\n",
      "716/716 [==============================] - 1s 781us/step - loss: 0.2098 - accuracy: 0.9280 - val_loss: 0.2369 - val_accuracy: 0.9185\n",
      "Epoch 24/50\n",
      "716/716 [==============================] - 1s 767us/step - loss: 0.2086 - accuracy: 0.9281 - val_loss: 0.2447 - val_accuracy: 0.9174\n",
      "Epoch 25/50\n",
      "716/716 [==============================] - 1s 772us/step - loss: 0.2079 - accuracy: 0.9285 - val_loss: 0.2381 - val_accuracy: 0.9179\n",
      "Epoch 26/50\n",
      "716/716 [==============================] - 1s 778us/step - loss: 0.2062 - accuracy: 0.9292 - val_loss: 0.2384 - val_accuracy: 0.9193\n",
      "Epoch 27/50\n",
      "716/716 [==============================] - 1s 804us/step - loss: 0.2054 - accuracy: 0.9295 - val_loss: 0.2375 - val_accuracy: 0.9166\n",
      "Epoch 28/50\n",
      "716/716 [==============================] - 1s 792us/step - loss: 0.2051 - accuracy: 0.9294 - val_loss: 0.2382 - val_accuracy: 0.9166\n",
      "Epoch 29/50\n",
      "716/716 [==============================] - 1s 805us/step - loss: 0.2038 - accuracy: 0.9296 - val_loss: 0.2424 - val_accuracy: 0.9192\n",
      "Epoch 30/50\n",
      "716/716 [==============================] - 1s 773us/step - loss: 0.2038 - accuracy: 0.9309 - val_loss: 0.2453 - val_accuracy: 0.9185\n",
      "Epoch 31/50\n",
      "716/716 [==============================] - 1s 779us/step - loss: 0.2023 - accuracy: 0.9307 - val_loss: 0.2382 - val_accuracy: 0.9214\n",
      "Epoch 32/50\n",
      "716/716 [==============================] - 1s 830us/step - loss: 0.2025 - accuracy: 0.9302 - val_loss: 0.2357 - val_accuracy: 0.9227\n",
      "Epoch 33/50\n",
      "716/716 [==============================] - 1s 831us/step - loss: 0.2009 - accuracy: 0.9309 - val_loss: 0.2418 - val_accuracy: 0.9202\n",
      "Epoch 34/50\n",
      "716/716 [==============================] - 1s 790us/step - loss: 0.2006 - accuracy: 0.9299 - val_loss: 0.2402 - val_accuracy: 0.9209\n",
      "Epoch 35/50\n",
      "716/716 [==============================] - 1s 794us/step - loss: 0.1999 - accuracy: 0.9312 - val_loss: 0.2386 - val_accuracy: 0.9206\n",
      "Epoch 36/50\n",
      "716/716 [==============================] - 1s 777us/step - loss: 0.1990 - accuracy: 0.9313 - val_loss: 0.2373 - val_accuracy: 0.9214\n",
      "Epoch 37/50\n",
      "716/716 [==============================] - 1s 787us/step - loss: 0.1983 - accuracy: 0.9319 - val_loss: 0.2397 - val_accuracy: 0.9214\n",
      "Epoch 38/50\n",
      "716/716 [==============================] - 1s 792us/step - loss: 0.1980 - accuracy: 0.9312 - val_loss: 0.2377 - val_accuracy: 0.9190\n",
      "Epoch 39/50\n",
      "716/716 [==============================] - 1s 798us/step - loss: 0.1981 - accuracy: 0.9305 - val_loss: 0.2392 - val_accuracy: 0.9199\n",
      "Epoch 40/50\n",
      "716/716 [==============================] - 1s 785us/step - loss: 0.1969 - accuracy: 0.9313 - val_loss: 0.2410 - val_accuracy: 0.9190\n",
      "Epoch 41/50\n",
      "716/716 [==============================] - 1s 796us/step - loss: 0.1964 - accuracy: 0.9319 - val_loss: 0.2416 - val_accuracy: 0.9214\n",
      "Epoch 42/50\n",
      "716/716 [==============================] - 1s 785us/step - loss: 0.1958 - accuracy: 0.9326 - val_loss: 0.2371 - val_accuracy: 0.9214\n",
      "Epoch 43/50\n",
      "716/716 [==============================] - 1s 767us/step - loss: 0.1947 - accuracy: 0.9320 - val_loss: 0.2428 - val_accuracy: 0.9145\n",
      "Epoch 44/50\n",
      "716/716 [==============================] - 1s 785us/step - loss: 0.1945 - accuracy: 0.9329 - val_loss: 0.2424 - val_accuracy: 0.9209\n",
      "Epoch 45/50\n",
      "716/716 [==============================] - 1s 790us/step - loss: 0.1938 - accuracy: 0.9327 - val_loss: 0.2422 - val_accuracy: 0.9213\n",
      "Epoch 46/50\n",
      "716/716 [==============================] - 1s 805us/step - loss: 0.1939 - accuracy: 0.9325 - val_loss: 0.2379 - val_accuracy: 0.9209\n",
      "Epoch 47/50\n",
      "716/716 [==============================] - 1s 793us/step - loss: 0.1933 - accuracy: 0.9327 - val_loss: 0.2392 - val_accuracy: 0.9190\n",
      "Epoch 48/50\n",
      "716/716 [==============================] - 1s 797us/step - loss: 0.1932 - accuracy: 0.9330 - val_loss: 0.2394 - val_accuracy: 0.9213\n",
      "Epoch 49/50\n",
      "716/716 [==============================] - 1s 807us/step - loss: 0.1922 - accuracy: 0.9323 - val_loss: 0.2425 - val_accuracy: 0.9207\n",
      "Epoch 50/50\n",
      "716/716 [==============================] - 1s 808us/step - loss: 0.1911 - accuracy: 0.9344 - val_loss: 0.2360 - val_accuracy: 0.9223\n"
     ]
    },
    {
     "data": {
      "text/plain": [
       "<keras.callbacks.History at 0x7f9c200f2980>"
      ]
     },
     "execution_count": 22,
     "metadata": {},
     "output_type": "execute_result"
    }
   ],
   "source": [
    "model.fit(X_train, y_train, epochs=50, batch_size=32, validation_data=(X_test, y_test))\n"
   ]
  },
  {
   "cell_type": "markdown",
   "id": "f5069fa9",
   "metadata": {},
   "source": [
    "Evaluate the Model"
   ]
  },
  {
   "cell_type": "code",
   "execution_count": 23,
   "id": "85b71d60",
   "metadata": {
    "scrolled": true
   },
   "outputs": [
    {
     "name": "stdout",
     "output_type": "stream",
     "text": [
      "179/179 [==============================] - 0s 473us/step - loss: 0.2360 - accuracy: 0.9223\n",
      "Accuracy: 92.23%\n"
     ]
    }
   ],
   "source": [
    "loss, accuracy = model.evaluate(X_test, y_test)\n",
    "print(f\"Accuracy: {accuracy*100:.2f}%\")"
   ]
  },
  {
   "cell_type": "markdown",
   "id": "7af38679",
   "metadata": {},
   "source": [
    "Confusion Matrix and Classification Report"
   ]
  },
  {
   "cell_type": "code",
   "execution_count": 24,
   "id": "11cfac52",
   "metadata": {},
   "outputs": [
    {
     "name": "stdout",
     "output_type": "stream",
     "text": [
      "179/179 [==============================] - 0s 415us/step\n",
      "Confusion Matrix:\n",
      "[[4382   61]\n",
      " [ 384  901]]\n",
      "\n",
      "Classification Report:\n",
      "              precision    recall  f1-score   support\n",
      "\n",
      "           0       0.92      0.99      0.95      4443\n",
      "           1       0.94      0.70      0.80      1285\n",
      "\n",
      "    accuracy                           0.92      5728\n",
      "   macro avg       0.93      0.84      0.88      5728\n",
      "weighted avg       0.92      0.92      0.92      5728\n",
      "\n"
     ]
    }
   ],
   "source": [
    "from sklearn.metrics import confusion_matrix, classification_report\n",
    "import numpy as np\n",
    "\n",
    "# Predicting the Test set results\n",
    "y_pred = model.predict(X_test)\n",
    "y_pred = (y_pred > 0.5)  # convert probabilities to binary output\n",
    "\n",
    "# Making the Confusion Matrix\n",
    "cm = confusion_matrix(y_test, y_pred)\n",
    "print(\"Confusion Matrix:\")\n",
    "print(cm)\n",
    "\n",
    "# Classification Report\n",
    "cr = classification_report(y_test, y_pred)\n",
    "print(\"\\nClassification Report:\")\n",
    "print(cr)\n"
   ]
  },
  {
   "cell_type": "code",
   "execution_count": null,
   "id": "96e6c288",
   "metadata": {},
   "outputs": [],
   "source": []
  }
 ],
 "metadata": {
  "kernelspec": {
   "display_name": "Python 3 (ipykernel)",
   "language": "python",
   "name": "python3"
  },
  "language_info": {
   "codemirror_mode": {
    "name": "ipython",
    "version": 3
   },
   "file_extension": ".py",
   "mimetype": "text/x-python",
   "name": "python",
   "nbconvert_exporter": "python",
   "pygments_lexer": "ipython3",
   "version": "3.10.9"
  }
 },
 "nbformat": 4,
 "nbformat_minor": 5
}
